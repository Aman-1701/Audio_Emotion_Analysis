{
 "cells": [
  {
   "cell_type": "code",
   "execution_count": 1,
   "id": "1725b56d",
   "metadata": {
    "_cell_guid": "b1076dfc-b9ad-4769-8c92-a6c4dae69d19",
    "_uuid": "8f2839f25d086af736a60e9eeb907d3b93b6e0e5",
    "execution": {
     "iopub.execute_input": "2021-10-26T20:31:34.449316Z",
     "iopub.status.busy": "2021-10-26T20:31:34.447774Z",
     "iopub.status.idle": "2021-10-26T20:31:40.885050Z",
     "shell.execute_reply": "2021-10-26T20:31:40.884457Z",
     "shell.execute_reply.started": "2021-10-26T19:54:48.396605Z"
    },
    "papermill": {
     "duration": 6.463803,
     "end_time": "2021-10-26T20:31:40.885231",
     "exception": false,
     "start_time": "2021-10-26T20:31:34.421428",
     "status": "completed"
    },
    "tags": []
   },
   "outputs": [],
   "source": [
    "import pandas as pd\n",
    "import numpy as np\n",
    "\n",
    "import os\n",
    "import sys\n",
    "\n",
    "import librosa\n",
    "import librosa.display\n",
    "import seaborn as sns\n",
    "import matplotlib.pyplot as plt\n",
    "\n",
    "from sklearn.preprocessing import StandardScaler, OneHotEncoder\n",
    "from sklearn.metrics import confusion_matrix, classification_report\n",
    "from sklearn.model_selection import train_test_split\n",
    "import seaborn as sn\n",
    "\n",
    "\n",
    "import IPython.display as ipd\n",
    "from IPython.display import Audio\n",
    "\n",
    "from tensorflow import keras\n",
    "from keras.preprocessing import sequence\n",
    "from keras.models import Sequential\n",
    "from keras.layers import Dense, Embedding\n",
    "from keras.layers import LSTM,BatchNormalization\n",
    "from keras.preprocessing.text import Tokenizer\n",
    "from keras.preprocessing.sequence import pad_sequences\n",
    "from tensorflow.keras.utils import to_categorical\n",
    "from keras.layers import Input, Flatten, Dropout, Activation\n",
    "from keras.layers import Conv1D, MaxPooling1D, AveragePooling1D\n",
    "from keras.models import Model\n",
    "from keras.callbacks import ModelCheckpoint\n",
    "from sklearn.preprocessing import LabelEncoder\n",
    "\n",
    "import warnings\n",
    "if not sys.warnoptions:\n",
    "    warnings.simplefilter(\"ignore\")\n",
    "warnings.filterwarnings(\"ignore\", category=DeprecationWarning) "
   ]
  },
  {
   "cell_type": "code",
   "execution_count": 2,
   "id": "80d856a2",
   "metadata": {
    "execution": {
     "iopub.execute_input": "2021-10-26T20:31:40.925525Z",
     "iopub.status.busy": "2021-10-26T20:31:40.924722Z",
     "iopub.status.idle": "2021-10-26T20:31:40.926641Z",
     "shell.execute_reply": "2021-10-26T20:31:40.927006Z",
     "shell.execute_reply.started": "2021-10-26T19:54:52.559871Z"
    },
    "papermill": {
     "duration": 0.023645,
     "end_time": "2021-10-26T20:31:40.927151",
     "exception": false,
     "start_time": "2021-10-26T20:31:40.903506",
     "status": "completed"
    },
    "tags": []
   },
   "outputs": [],
   "source": [
    "RAV = \"/kaggle/input/ravdess-emotional-speech-audio/audio_speech_actors_01-24/\"\n"
   ]
  },
  {
   "cell_type": "code",
   "execution_count": 3,
   "id": "5905a8b7",
   "metadata": {
    "execution": {
     "iopub.execute_input": "2021-10-26T20:31:40.970636Z",
     "iopub.status.busy": "2021-10-26T20:31:40.970110Z",
     "iopub.status.idle": "2021-10-26T20:31:41.316393Z",
     "shell.execute_reply": "2021-10-26T20:31:41.316821Z",
     "shell.execute_reply.started": "2021-10-26T19:54:54.230389Z"
    },
    "papermill": {
     "duration": 0.372611,
     "end_time": "2021-10-26T20:31:41.316964",
     "exception": false,
     "start_time": "2021-10-26T20:31:40.944353",
     "status": "completed"
    },
    "tags": []
   },
   "outputs": [
    {
     "data": {
      "text/plain": [
       "male_calm          96\n",
       "male_sad           96\n",
       "male_fear          96\n",
       "male_happy         96\n",
       "male_disgust       96\n",
       "male_angry         96\n",
       "male_surprise      96\n",
       "female_surprise    96\n",
       "female_disgust     96\n",
       "female_fear        96\n",
       "female_sad         96\n",
       "female_calm        96\n",
       "female_happy       96\n",
       "female_angry       96\n",
       "male_neutral       48\n",
       "female_neutral     48\n",
       "Name: labels, dtype: int64"
      ]
     },
     "execution_count": 3,
     "metadata": {},
     "output_type": "execute_result"
    }
   ],
   "source": [
    "dir_list = os.listdir(RAV)\n",
    "dir_list.sort()\n",
    "\n",
    "emotion = []\n",
    "gender = []\n",
    "path = []\n",
    "for i in dir_list:\n",
    "    fname = os.listdir(RAV + i)\n",
    "    for f in fname:\n",
    "        part = f.split('.')[0].split('-')\n",
    "        emotion.append(int(part[2]))\n",
    "        temp = int(part[6])\n",
    "        if temp%2 == 0:\n",
    "            temp = \"female\"\n",
    "        else:\n",
    "            temp = \"male\"\n",
    "        gender.append(temp)\n",
    "        path.append(RAV + i + '/' + f)\n",
    "\n",
    "        \n",
    "RAV_df = pd.DataFrame(emotion)\n",
    "RAV_df = RAV_df.replace({1:'neutral', 2:'calm', 3:'happy', 4:'sad', 5:'angry', 6:'fear', 7:'disgust', 8:'surprise'})\n",
    "RAV_df = pd.concat([pd.DataFrame(gender),RAV_df],axis=1)\n",
    "RAV_df.columns = ['gender','emotion']\n",
    "RAV_df['labels'] =RAV_df.gender + '_' + RAV_df.emotion\n",
    "RAV_df['source'] = 'RAVDESS'  \n",
    "RAV_df = pd.concat([RAV_df,pd.DataFrame(path, columns = ['path'])],axis=1)\n",
    "RAV_df = RAV_df.drop(['gender', 'emotion'], axis=1)\n",
    "RAV_df.labels.value_counts()"
   ]
  },
  {
   "cell_type": "code",
   "execution_count": 4,
   "id": "972ddb81",
   "metadata": {
    "execution": {
     "iopub.execute_input": "2021-10-26T20:31:41.371557Z",
     "iopub.status.busy": "2021-10-26T20:31:41.357658Z",
     "iopub.status.idle": "2021-10-26T20:31:41.651006Z",
     "shell.execute_reply": "2021-10-26T20:31:41.650517Z",
     "shell.execute_reply.started": "2021-10-26T19:54:59.534585Z"
    },
    "papermill": {
     "duration": 0.315986,
     "end_time": "2021-10-26T20:31:41.651144",
     "exception": false,
     "start_time": "2021-10-26T20:31:41.335158",
     "status": "completed"
    },
    "tags": []
   },
   "outputs": [
    {
     "data": {
      "image/png": "[encoded data removed]",
      "text/plain": [
       "<Figure size 864x360 with 1 Axes>"
      ]
     },
     "metadata": {
      "needs_background": "light"
     },
     "output_type": "display_data"
    }
   ],
   "source": [
    "plt.figure(figsize=(12, 5))\n",
    "plt.title('Count of Emotions', size=16)\n",
    "sns.countplot(RAV_df.labels)\n",
    "plt.ylabel('Count', size=12)\n",
    "plt.xlabel('Emotions', size=12)\n",
    "plt.xticks(rotation=45)\n",
    "sns.despine(top=True, right=True, left=False, bottom=False)\n",
    "plt.show()"
   ]
  },
  {
   "cell_type": "code",
   "execution_count": 5,
   "id": "483c32d3",
   "metadata": {
    "execution": {
     "iopub.execute_input": "2021-10-26T20:31:41.695395Z",
     "iopub.status.busy": "2021-10-26T20:31:41.694591Z",
     "iopub.status.idle": "2021-10-26T20:31:41.696614Z",
     "shell.execute_reply": "2021-10-26T20:31:41.696992Z",
     "shell.execute_reply.started": "2021-10-26T19:55:03.645923Z"
    },
    "papermill": {
     "duration": 0.027409,
     "end_time": "2021-10-26T20:31:41.697147",
     "exception": false,
     "start_time": "2021-10-26T20:31:41.669738",
     "status": "completed"
    },
    "tags": []
   },
   "outputs": [],
   "source": [
    "def noise(data):\n",
    "    noise_amp = 0.035*np.random.uniform()*np.amax(data)\n",
    "    data = data + noise_amp*np.random.normal(size=data.shape[0])\n",
    "    return data\n",
    "# STRETCH\n",
    "def stretch(data, rate=0.8):\n",
    "    return librosa.effects.time_stretch(data, rate)\n",
    "# SHIFT\n",
    "def shift(data):\n",
    "    shift_range = int(np.random.uniform(low=-5, high = 5)*1000)\n",
    "    return np.roll(data, shift_range)\n",
    "# PITCH\n",
    "def pitch(data, sampling_rate, pitch_factor=0.7):\n",
    "    return librosa.effects.pitch_shift(data, sampling_rate, pitch_factor)"
   ]
  },
  {
   "cell_type": "code",
   "execution_count": 6,
   "id": "a1d9a3d7",
   "metadata": {
    "execution": {
     "iopub.execute_input": "2021-10-26T20:31:41.736813Z",
     "iopub.status.busy": "2021-10-26T20:31:41.736017Z",
     "iopub.status.idle": "2021-10-26T20:31:41.742869Z",
     "shell.execute_reply": "2021-10-26T20:31:41.742460Z",
     "shell.execute_reply.started": "2021-10-26T19:55:07.699611Z"
    },
    "papermill": {
     "duration": 0.027432,
     "end_time": "2021-10-26T20:31:41.742975",
     "exception": false,
     "start_time": "2021-10-26T20:31:41.715543",
     "status": "completed"
    },
    "tags": []
   },
   "outputs": [],
   "source": [
    "def feat_ext(data):\n",
    "    mfcc = np.mean(librosa.feature.mfcc(y=data, sr=sample_rate).T, axis=0)\n",
    "    return mfcc\n",
    "\n",
    "def get_feat(path):\n",
    "    data, sample_rate = librosa.load(path, duration=2.5, offset=0.6)\n",
    "    # normal data\n",
    "    res1 = feat_ext(data)\n",
    "    result = np.array(res1)\n",
    "    #data with noise\n",
    "    noise_data = noise(data)\n",
    "    res2 = feat_ext(noise_data)\n",
    "    result = np.vstack((result, res2))\n",
    "    #data with stretch and pitch\n",
    "    new_data = stretch(data)\n",
    "    data_stretch_pitch = pitch(new_data, sample_rate)\n",
    "    res3 = feat_ext(data_stretch_pitch)\n",
    "    result = np.vstack((result, res3))\n",
    "    return result"
   ]
  },
  {
   "cell_type": "code",
   "execution_count": 7,
   "id": "5c7cdd38",
   "metadata": {
    "execution": {
     "iopub.execute_input": "2021-10-26T20:31:41.784342Z",
     "iopub.status.busy": "2021-10-26T20:31:41.783712Z",
     "iopub.status.idle": "2021-10-26T20:31:41.792921Z",
     "shell.execute_reply": "2021-10-26T20:31:41.793332Z",
     "shell.execute_reply.started": "2021-10-26T19:55:14.014765Z"
    },
    "papermill": {
     "duration": 0.03181,
     "end_time": "2021-10-26T20:31:41.793458",
     "exception": false,
     "start_time": "2021-10-26T20:31:41.761648",
     "status": "completed"
    },
    "tags": []
   },
   "outputs": [
    {
     "data": {
      "text/html": [
       "<div>\n",
       "<style scoped>\n",
       "    .dataframe tbody tr th:only-of-type {\n",
       "        vertical-align: middle;\n",
       "    }\n",
       "\n",
       "    .dataframe tbody tr th {\n",
       "        vertical-align: top;\n",
       "    }\n",
       "\n",
       "    .dataframe thead th {\n",
       "        text-align: right;\n",
       "    }\n",
       "</style>\n",
       "<table border=\"1\" class=\"dataframe\">\n",
       "  <thead>\n",
       "    <tr style=\"text-align: right;\">\n",
       "      <th></th>\n",
       "      <th>labels</th>\n",
       "      <th>source</th>\n",
       "      <th>path</th>\n",
       "    </tr>\n",
       "  </thead>\n",
       "  <tbody>\n",
       "    <tr>\n",
       "      <th>0</th>\n",
       "      <td>male_calm</td>\n",
       "      <td>RAVDESS</td>\n",
       "      <td>/kaggle/input/ravdess-emotional-speech-audio/a...</td>\n",
       "    </tr>\n",
       "    <tr>\n",
       "      <th>1</th>\n",
       "      <td>male_neutral</td>\n",
       "      <td>RAVDESS</td>\n",
       "      <td>/kaggle/input/ravdess-emotional-speech-audio/a...</td>\n",
       "    </tr>\n",
       "    <tr>\n",
       "      <th>2</th>\n",
       "      <td>male_sad</td>\n",
       "      <td>RAVDESS</td>\n",
       "      <td>/kaggle/input/ravdess-emotional-speech-audio/a...</td>\n",
       "    </tr>\n",
       "    <tr>\n",
       "      <th>3</th>\n",
       "      <td>male_calm</td>\n",
       "      <td>RAVDESS</td>\n",
       "      <td>/kaggle/input/ravdess-emotional-speech-audio/a...</td>\n",
       "    </tr>\n",
       "    <tr>\n",
       "      <th>4</th>\n",
       "      <td>male_calm</td>\n",
       "      <td>RAVDESS</td>\n",
       "      <td>/kaggle/input/ravdess-emotional-speech-audio/a...</td>\n",
       "    </tr>\n",
       "  </tbody>\n",
       "</table>\n",
       "</div>"
      ],
      "text/plain": [
       "         labels   source                                               path\n",
       "0     male_calm  RAVDESS  /kaggle/input/ravdess-emotional-speech-audio/a...\n",
       "1  male_neutral  RAVDESS  /kaggle/input/ravdess-emotional-speech-audio/a...\n",
       "2      male_sad  RAVDESS  /kaggle/input/ravdess-emotional-speech-audio/a...\n",
       "3     male_calm  RAVDESS  /kaggle/input/ravdess-emotional-speech-audio/a...\n",
       "4     male_calm  RAVDESS  /kaggle/input/ravdess-emotional-speech-audio/a..."
      ]
     },
     "execution_count": 7,
     "metadata": {},
     "output_type": "execute_result"
    }
   ],
   "source": [
    "RAV_df.head()\n"
   ]
  },
  {
   "cell_type": "code",
   "execution_count": 8,
   "id": "ca048e84",
   "metadata": {
    "execution": {
     "iopub.execute_input": "2021-10-26T20:31:41.835429Z",
     "iopub.status.busy": "2021-10-26T20:31:41.834883Z",
     "iopub.status.idle": "2021-10-26T20:31:42.702968Z",
     "shell.execute_reply": "2021-10-26T20:31:42.702101Z",
     "shell.execute_reply.started": "2021-10-26T19:55:19.195308Z"
    },
    "papermill": {
     "duration": 0.890623,
     "end_time": "2021-10-26T20:31:42.703126",
     "exception": false,
     "start_time": "2021-10-26T20:31:41.812503",
     "status": "completed"
    },
    "tags": []
   },
   "outputs": [],
   "source": [
    "path = np.array(RAV_df['path'])[0]\n",
    "data, sample_rate = librosa.load(path)"
   ]
  },
  {
   "cell_type": "code",
   "execution_count": 9,
   "id": "63eb90f9",
   "metadata": {
    "execution": {
     "iopub.execute_input": "2021-10-26T20:31:42.746703Z",
     "iopub.status.busy": "2021-10-26T20:31:42.745906Z",
     "iopub.status.idle": "2021-10-26T20:41:05.441376Z",
     "shell.execute_reply": "2021-10-26T20:41:05.442799Z",
     "shell.execute_reply.started": "2021-10-26T19:55:24.690128Z"
    },
    "papermill": {
     "duration": 562.720807,
     "end_time": "2021-10-26T20:41:05.443150",
     "exception": false,
     "start_time": "2021-10-26T20:31:42.722343",
     "status": "completed"
    },
    "tags": []
   },
   "outputs": [],
   "source": [
    "X, Y = [], []\n",
    "FLAG = 0\n",
    "for path, emotion in zip(RAV_df['path'], RAV_df['labels']):\n",
    "    feature = get_feat(path)\n",
    "    for element in feature:\n",
    "        X.append(element)\n",
    "        Y.append(emotion)\n",
    "   \n",
    "        "
   ]
  },
  {
   "cell_type": "code",
   "execution_count": 10,
   "id": "267056ef",
   "metadata": {
    "execution": {
     "iopub.execute_input": "2021-10-26T20:41:05.532231Z",
     "iopub.status.busy": "2021-10-26T20:41:05.531275Z",
     "iopub.status.idle": "2021-10-26T20:41:05.775768Z",
     "shell.execute_reply": "2021-10-26T20:41:05.774952Z",
     "shell.execute_reply.started": "2021-10-26T20:06:03.211234Z"
    },
    "papermill": {
     "duration": 0.293648,
     "end_time": "2021-10-26T20:41:05.775905",
     "exception": false,
     "start_time": "2021-10-26T20:41:05.482257",
     "status": "completed"
    },
    "tags": []
   },
   "outputs": [
    {
     "data": {
      "text/html": [
       "<div>\n",
       "<style scoped>\n",
       "    .dataframe tbody tr th:only-of-type {\n",
       "        vertical-align: middle;\n",
       "    }\n",
       "\n",
       "    .dataframe tbody tr th {\n",
       "        vertical-align: top;\n",
       "    }\n",
       "\n",
       "    .dataframe thead th {\n",
       "        text-align: right;\n",
       "    }\n",
       "</style>\n",
       "<table border=\"1\" class=\"dataframe\">\n",
       "  <thead>\n",
       "    <tr style=\"text-align: right;\">\n",
       "      <th></th>\n",
       "      <th>0</th>\n",
       "      <th>1</th>\n",
       "      <th>2</th>\n",
       "      <th>3</th>\n",
       "      <th>4</th>\n",
       "      <th>5</th>\n",
       "      <th>6</th>\n",
       "      <th>7</th>\n",
       "      <th>8</th>\n",
       "      <th>9</th>\n",
       "      <th>...</th>\n",
       "      <th>11</th>\n",
       "      <th>12</th>\n",
       "      <th>13</th>\n",
       "      <th>14</th>\n",
       "      <th>15</th>\n",
       "      <th>16</th>\n",
       "      <th>17</th>\n",
       "      <th>18</th>\n",
       "      <th>19</th>\n",
       "      <th>labels</th>\n",
       "    </tr>\n",
       "  </thead>\n",
       "  <tbody>\n",
       "    <tr>\n",
       "      <th>0</th>\n",
       "      <td>-626.262817</td>\n",
       "      <td>93.897247</td>\n",
       "      <td>-0.691274</td>\n",
       "      <td>17.833761</td>\n",
       "      <td>9.502007</td>\n",
       "      <td>2.030928</td>\n",
       "      <td>-2.721136</td>\n",
       "      <td>-8.514406</td>\n",
       "      <td>-12.427499</td>\n",
       "      <td>-6.575863</td>\n",
       "      <td>...</td>\n",
       "      <td>-2.750585</td>\n",
       "      <td>0.777975</td>\n",
       "      <td>-5.365467</td>\n",
       "      <td>-0.337154</td>\n",
       "      <td>1.482861</td>\n",
       "      <td>-8.703283</td>\n",
       "      <td>-2.764846</td>\n",
       "      <td>-1.618086</td>\n",
       "      <td>-1.523441</td>\n",
       "      <td>male_calm</td>\n",
       "    </tr>\n",
       "    <tr>\n",
       "      <th>1</th>\n",
       "      <td>-564.539343</td>\n",
       "      <td>73.841613</td>\n",
       "      <td>3.347975</td>\n",
       "      <td>13.807371</td>\n",
       "      <td>7.563148</td>\n",
       "      <td>1.101138</td>\n",
       "      <td>-3.935147</td>\n",
       "      <td>-9.157551</td>\n",
       "      <td>-11.374754</td>\n",
       "      <td>-6.610390</td>\n",
       "      <td>...</td>\n",
       "      <td>-2.213658</td>\n",
       "      <td>0.227261</td>\n",
       "      <td>-4.637168</td>\n",
       "      <td>-0.444998</td>\n",
       "      <td>0.880644</td>\n",
       "      <td>-8.350543</td>\n",
       "      <td>-4.183923</td>\n",
       "      <td>-0.433099</td>\n",
       "      <td>-2.778999</td>\n",
       "      <td>male_calm</td>\n",
       "    </tr>\n",
       "    <tr>\n",
       "      <th>2</th>\n",
       "      <td>-683.957275</td>\n",
       "      <td>90.017433</td>\n",
       "      <td>-4.683877</td>\n",
       "      <td>17.088734</td>\n",
       "      <td>6.352099</td>\n",
       "      <td>0.125329</td>\n",
       "      <td>-6.658350</td>\n",
       "      <td>-12.177516</td>\n",
       "      <td>-15.775300</td>\n",
       "      <td>-5.823637</td>\n",
       "      <td>...</td>\n",
       "      <td>-2.189203</td>\n",
       "      <td>-1.985399</td>\n",
       "      <td>-7.311870</td>\n",
       "      <td>-0.380163</td>\n",
       "      <td>-2.598426</td>\n",
       "      <td>-9.273967</td>\n",
       "      <td>-2.697828</td>\n",
       "      <td>-2.000967</td>\n",
       "      <td>-5.755048</td>\n",
       "      <td>male_calm</td>\n",
       "    </tr>\n",
       "    <tr>\n",
       "      <th>3</th>\n",
       "      <td>-634.959839</td>\n",
       "      <td>72.811478</td>\n",
       "      <td>-3.487028</td>\n",
       "      <td>20.697269</td>\n",
       "      <td>10.188319</td>\n",
       "      <td>-0.667841</td>\n",
       "      <td>-3.293634</td>\n",
       "      <td>-7.447817</td>\n",
       "      <td>-16.703850</td>\n",
       "      <td>-2.161060</td>\n",
       "      <td>...</td>\n",
       "      <td>-3.714514</td>\n",
       "      <td>0.273592</td>\n",
       "      <td>-4.517450</td>\n",
       "      <td>-1.117245</td>\n",
       "      <td>0.534381</td>\n",
       "      <td>-6.885534</td>\n",
       "      <td>-1.295200</td>\n",
       "      <td>-3.289554</td>\n",
       "      <td>0.756878</td>\n",
       "      <td>male_neutral</td>\n",
       "    </tr>\n",
       "    <tr>\n",
       "      <th>4</th>\n",
       "      <td>-502.637763</td>\n",
       "      <td>41.777429</td>\n",
       "      <td>5.818777</td>\n",
       "      <td>13.436714</td>\n",
       "      <td>6.807628</td>\n",
       "      <td>-1.577259</td>\n",
       "      <td>-3.019628</td>\n",
       "      <td>-7.961434</td>\n",
       "      <td>-11.920644</td>\n",
       "      <td>-4.698589</td>\n",
       "      <td>...</td>\n",
       "      <td>-2.610821</td>\n",
       "      <td>-2.441463</td>\n",
       "      <td>-3.573492</td>\n",
       "      <td>-2.152608</td>\n",
       "      <td>-0.793767</td>\n",
       "      <td>-5.390954</td>\n",
       "      <td>-3.428957</td>\n",
       "      <td>-0.768867</td>\n",
       "      <td>-2.077625</td>\n",
       "      <td>male_neutral</td>\n",
       "    </tr>\n",
       "  </tbody>\n",
       "</table>\n",
       "<p>5 rows × 21 columns</p>\n",
       "</div>"
      ],
      "text/plain": [
       "            0          1         2          3          4         5         6  \\\n",
       "0 -626.262817  93.897247 -0.691274  17.833761   9.502007  2.030928 -2.721136   \n",
       "1 -564.539343  73.841613  3.347975  13.807371   7.563148  1.101138 -3.935147   \n",
       "2 -683.957275  90.017433 -4.683877  17.088734   6.352099  0.125329 -6.658350   \n",
       "3 -634.959839  72.811478 -3.487028  20.697269  10.188319 -0.667841 -3.293634   \n",
       "4 -502.637763  41.777429  5.818777  13.436714   6.807628 -1.577259 -3.019628   \n",
       "\n",
       "           7          8         9  ...        11        12        13  \\\n",
       "0  -8.514406 -12.427499 -6.575863  ... -2.750585  0.777975 -5.365467   \n",
       "1  -9.157551 -11.374754 -6.610390  ... -2.213658  0.227261 -4.637168   \n",
       "2 -12.177516 -15.775300 -5.823637  ... -2.189203 -1.985399 -7.311870   \n",
       "3  -7.447817 -16.703850 -2.161060  ... -3.714514  0.273592 -4.517450   \n",
       "4  -7.961434 -11.920644 -4.698589  ... -2.610821 -2.441463 -3.573492   \n",
       "\n",
       "         14        15        16        17        18        19        labels  \n",
       "0 -0.337154  1.482861 -8.703283 -2.764846 -1.618086 -1.523441     male_calm  \n",
       "1 -0.444998  0.880644 -8.350543 -4.183923 -0.433099 -2.778999     male_calm  \n",
       "2 -0.380163 -2.598426 -9.273967 -2.697828 -2.000967 -5.755048     male_calm  \n",
       "3 -1.117245  0.534381 -6.885534 -1.295200 -3.289554  0.756878  male_neutral  \n",
       "4 -2.152608 -0.793767 -5.390954 -3.428957 -0.768867 -2.077625  male_neutral  \n",
       "\n",
       "[5 rows x 21 columns]"
      ]
     },
     "execution_count": 10,
     "metadata": {},
     "output_type": "execute_result"
    }
   ],
   "source": [
    "Features = pd.DataFrame(X)\n",
    "Features['labels'] = Y\n",
    "Features.to_csv('features.csv', index=False)\n",
    "Features.head()"
   ]
  },
  {
   "cell_type": "code",
   "execution_count": 11,
   "id": "0f52d4a2",
   "metadata": {
    "execution": {
     "iopub.execute_input": "2021-10-26T20:41:05.824550Z",
     "iopub.status.busy": "2021-10-26T20:41:05.823714Z",
     "iopub.status.idle": "2021-10-26T20:41:05.825683Z",
     "shell.execute_reply": "2021-10-26T20:41:05.826067Z",
     "shell.execute_reply.started": "2021-10-26T20:06:05.905256Z"
    },
    "papermill": {
     "duration": 0.028982,
     "end_time": "2021-10-26T20:41:05.826227",
     "exception": false,
     "start_time": "2021-10-26T20:41:05.797245",
     "status": "completed"
    },
    "tags": []
   },
   "outputs": [],
   "source": [
    "X = Features.iloc[: ,:-1].values\n",
    "Y = Features['labels'].values"
   ]
  },
  {
   "cell_type": "code",
   "execution_count": 12,
   "id": "0d497018",
   "metadata": {
    "execution": {
     "iopub.execute_input": "2021-10-26T20:41:05.872897Z",
     "iopub.status.busy": "2021-10-26T20:41:05.872156Z",
     "iopub.status.idle": "2021-10-26T20:41:05.875487Z",
     "shell.execute_reply": "2021-10-26T20:41:05.874979Z",
     "shell.execute_reply.started": "2021-10-26T20:06:08.008090Z"
    },
    "papermill": {
     "duration": 0.029215,
     "end_time": "2021-10-26T20:41:05.875613",
     "exception": false,
     "start_time": "2021-10-26T20:41:05.846398",
     "status": "completed"
    },
    "tags": []
   },
   "outputs": [],
   "source": [
    "encoder = OneHotEncoder()\n",
    "Y = encoder.fit_transform(np.array(Y).reshape(-1,1)).toarray()"
   ]
  },
  {
   "cell_type": "code",
   "execution_count": 13,
   "id": "00523509",
   "metadata": {
    "execution": {
     "iopub.execute_input": "2021-10-26T20:41:05.977649Z",
     "iopub.status.busy": "2021-10-26T20:41:05.976780Z",
     "iopub.status.idle": "2021-10-26T20:41:05.979674Z",
     "shell.execute_reply": "2021-10-26T20:41:05.980107Z",
     "shell.execute_reply.started": "2021-10-26T20:06:11.645212Z"
    },
    "papermill": {
     "duration": 0.028041,
     "end_time": "2021-10-26T20:41:05.980264",
     "exception": false,
     "start_time": "2021-10-26T20:41:05.952223",
     "status": "completed"
    },
    "tags": []
   },
   "outputs": [
    {
     "data": {
      "text/plain": [
       "(4320, 16)"
      ]
     },
     "execution_count": 13,
     "metadata": {},
     "output_type": "execute_result"
    }
   ],
   "source": [
    "Y.shape"
   ]
  },
  {
   "cell_type": "code",
   "execution_count": 14,
   "id": "9ef2d7f2",
   "metadata": {
    "execution": {
     "iopub.execute_input": "2021-10-26T20:41:06.025619Z",
     "iopub.status.busy": "2021-10-26T20:41:06.024875Z",
     "iopub.status.idle": "2021-10-26T20:41:06.030734Z",
     "shell.execute_reply": "2021-10-26T20:41:06.030260Z",
     "shell.execute_reply.started": "2021-10-26T20:18:11.389474Z"
    },
    "papermill": {
     "duration": 0.030599,
     "end_time": "2021-10-26T20:41:06.030838",
     "exception": false,
     "start_time": "2021-10-26T20:41:06.000239",
     "status": "completed"
    },
    "tags": []
   },
   "outputs": [
    {
     "data": {
      "text/plain": [
       "((3240, 20), (3240, 16), (1080, 20), (1080, 16))"
      ]
     },
     "execution_count": 14,
     "metadata": {},
     "output_type": "execute_result"
    }
   ],
   "source": [
    "x_train, x_test, y_train, y_test = train_test_split(X, Y, random_state=0, shuffle=True)\n",
    "x_train.shape, y_train.shape, x_test.shape, y_test.shape"
   ]
  },
  {
   "cell_type": "code",
   "execution_count": 15,
   "id": "d22211e2",
   "metadata": {
    "execution": {
     "iopub.execute_input": "2021-10-26T20:41:06.075433Z",
     "iopub.status.busy": "2021-10-26T20:41:06.074549Z",
     "iopub.status.idle": "2021-10-26T20:41:06.081208Z",
     "shell.execute_reply": "2021-10-26T20:41:06.080711Z",
     "shell.execute_reply.started": "2021-10-26T20:18:12.960301Z"
    },
    "papermill": {
     "duration": 0.030534,
     "end_time": "2021-10-26T20:41:06.081315",
     "exception": false,
     "start_time": "2021-10-26T20:41:06.050781",
     "status": "completed"
    },
    "tags": []
   },
   "outputs": [
    {
     "data": {
      "text/plain": [
       "((3240, 20), (3240, 16), (1080, 20), (1080, 16))"
      ]
     },
     "execution_count": 15,
     "metadata": {},
     "output_type": "execute_result"
    }
   ],
   "source": [
    "scaler = StandardScaler()\n",
    "x_train = scaler.fit_transform(x_train)\n",
    "x_test = scaler.transform(x_test)\n",
    "x_train.shape, y_train.shape, x_test.shape, y_test.shape"
   ]
  },
  {
   "cell_type": "code",
   "execution_count": 16,
   "id": "a791cd85",
   "metadata": {
    "execution": {
     "iopub.execute_input": "2021-10-26T20:41:06.127493Z",
     "iopub.status.busy": "2021-10-26T20:41:06.126853Z",
     "iopub.status.idle": "2021-10-26T20:41:06.129446Z",
     "shell.execute_reply": "2021-10-26T20:41:06.129861Z",
     "shell.execute_reply.started": "2021-10-26T20:18:14.559440Z"
    },
    "papermill": {
     "duration": 0.028248,
     "end_time": "2021-10-26T20:41:06.129979",
     "exception": false,
     "start_time": "2021-10-26T20:41:06.101731",
     "status": "completed"
    },
    "tags": []
   },
   "outputs": [
    {
     "data": {
      "text/plain": [
       "((3240, 20, 1), (3240, 16), (1080, 20, 1), (1080, 16))"
      ]
     },
     "execution_count": 16,
     "metadata": {},
     "output_type": "execute_result"
    }
   ],
   "source": [
    "x_train1 =np.expand_dims(x_train, axis=2)\n",
    "x_test1= np.expand_dims(x_test, axis=2)\n",
    "x_train1.shape, y_train.shape, x_test1.shape, y_test.shape"
   ]
  },
  {
   "cell_type": "code",
   "execution_count": 17,
   "id": "56af5a82",
   "metadata": {
    "execution": {
     "iopub.execute_input": "2021-10-26T20:41:06.181484Z",
     "iopub.status.busy": "2021-10-26T20:41:06.180872Z",
     "iopub.status.idle": "2021-10-26T20:41:09.314730Z",
     "shell.execute_reply": "2021-10-26T20:41:09.313886Z",
     "shell.execute_reply.started": "2021-10-26T20:18:19.669067Z"
    },
    "papermill": {
     "duration": 3.164365,
     "end_time": "2021-10-26T20:41:09.314906",
     "exception": false,
     "start_time": "2021-10-26T20:41:06.150541",
     "status": "completed"
    },
    "tags": []
   },
   "outputs": [
    {
     "name": "stderr",
     "output_type": "stream",
     "text": [
      "2021-10-26 20:41:06.253169: I tensorflow/stream_executor/cuda/cuda_gpu_executor.cc:937] successful NUMA node read from SysFS had negative value (-1), but there must be at least one NUMA node, so returning NUMA node zero\n",
      "2021-10-26 20:41:06.339764: I tensorflow/stream_executor/cuda/cuda_gpu_executor.cc:937] successful NUMA node read from SysFS had negative value (-1), but there must be at least one NUMA node, so returning NUMA node zero\n",
      "2021-10-26 20:41:06.340506: I tensorflow/stream_executor/cuda/cuda_gpu_executor.cc:937] successful NUMA node read from SysFS had negative value (-1), but there must be at least one NUMA node, so returning NUMA node zero\n",
      "2021-10-26 20:41:06.342472: I tensorflow/core/platform/cpu_feature_guard.cc:142] This TensorFlow binary is optimized with oneAPI Deep Neural Network Library (oneDNN) to use the following CPU instructions in performance-critical operations:  AVX2 AVX512F FMA\n",
      "To enable them in other operations, rebuild TensorFlow with the appropriate compiler flags.\n",
      "2021-10-26 20:41:06.343730: I tensorflow/stream_executor/cuda/cuda_gpu_executor.cc:937] successful NUMA node read from SysFS had negative value (-1), but there must be at least one NUMA node, so returning NUMA node zero\n",
      "2021-10-26 20:41:06.344463: I tensorflow/stream_executor/cuda/cuda_gpu_executor.cc:937] successful NUMA node read from SysFS had negative value (-1), but there must be at least one NUMA node, so returning NUMA node zero\n",
      "2021-10-26 20:41:06.345116: I tensorflow/stream_executor/cuda/cuda_gpu_executor.cc:937] successful NUMA node read from SysFS had negative value (-1), but there must be at least one NUMA node, so returning NUMA node zero\n",
      "2021-10-26 20:41:08.176958: I tensorflow/stream_executor/cuda/cuda_gpu_executor.cc:937] successful NUMA node read from SysFS had negative value (-1), but there must be at least one NUMA node, so returning NUMA node zero\n",
      "2021-10-26 20:41:08.177759: I tensorflow/stream_executor/cuda/cuda_gpu_executor.cc:937] successful NUMA node read from SysFS had negative value (-1), but there must be at least one NUMA node, so returning NUMA node zero\n",
      "2021-10-26 20:41:08.178417: I tensorflow/stream_executor/cuda/cuda_gpu_executor.cc:937] successful NUMA node read from SysFS had negative value (-1), but there must be at least one NUMA node, so returning NUMA node zero\n",
      "2021-10-26 20:41:08.179017: I tensorflow/core/common_runtime/gpu/gpu_device.cc:1510] Created device /job:localhost/replica:0/task:0/device:GPU:0 with 15403 MB memory:  -> device: 0, name: Tesla P100-PCIE-16GB, pci bus id: 0000:00:04.0, compute capability: 6.0\n"
     ]
    },
    {
     "name": "stdout",
     "output_type": "stream",
     "text": [
      "Model: \"sequential\"\n",
      "_________________________________________________________________\n",
      "Layer (type)                 Output Shape              Param #   \n",
      "=================================================================\n",
      "conv1d (Conv1D)              (None, 20, 2048)          12288     \n",
      "_________________________________________________________________\n",
      "max_pooling1d (MaxPooling1D) (None, 10, 2048)          0         \n",
      "_________________________________________________________________\n",
      "batch_normalization (BatchNo (None, 10, 2048)          8192      \n",
      "_________________________________________________________________\n",
      "conv1d_1 (Conv1D)            (None, 10, 1024)          10486784  \n",
      "_________________________________________________________________\n",
      "max_pooling1d_1 (MaxPooling1 (None, 5, 1024)           0         \n",
      "_________________________________________________________________\n",
      "batch_normalization_1 (Batch (None, 5, 1024)           4096      \n",
      "_________________________________________________________________\n",
      "conv1d_2 (Conv1D)            (None, 5, 512)            2621952   \n",
      "_________________________________________________________________\n",
      "max_pooling1d_2 (MaxPooling1 (None, 3, 512)            0         \n",
      "_________________________________________________________________\n",
      "batch_normalization_2 (Batch (None, 3, 512)            2048      \n",
      "_________________________________________________________________\n",
      "lstm (LSTM)                  (None, 3, 256)            787456    \n",
      "_________________________________________________________________\n",
      "lstm_1 (LSTM)                (None, 128)               197120    \n",
      "_________________________________________________________________\n",
      "dense (Dense)                (None, 128)               16512     \n",
      "_________________________________________________________________\n",
      "dropout (Dropout)            (None, 128)               0         \n",
      "_________________________________________________________________\n",
      "dense_1 (Dense)              (None, 64)                8256      \n",
      "_________________________________________________________________\n",
      "dropout_1 (Dropout)          (None, 64)                0         \n",
      "_________________________________________________________________\n",
      "dense_2 (Dense)              (None, 32)                2080      \n",
      "_________________________________________________________________\n",
      "dropout_2 (Dropout)          (None, 32)                0         \n",
      "_________________________________________________________________\n",
      "dense_3 (Dense)              (None, 16)                528       \n",
      "=================================================================\n",
      "Total params: 14,147,312\n",
      "Trainable params: 14,140,144\n",
      "Non-trainable params: 7,168\n",
      "_________________________________________________________________\n"
     ]
    }
   ],
   "source": [
    "model = Sequential()\n",
    "\n",
    "model.add(Conv1D(2048, kernel_size=5, strides=1, padding='same', activation='relu', input_shape=(x_train.shape[1], 1)))\n",
    "model.add(MaxPooling1D(pool_size=2, strides = 2, padding = 'same'))\n",
    "model.add(BatchNormalization())\n",
    "\n",
    "model.add(Conv1D(1024, kernel_size=5, strides=1, padding='same', activation='relu'))\n",
    "model.add(MaxPooling1D(pool_size=2, strides = 2, padding = 'same'))\n",
    "model.add(BatchNormalization())\n",
    "\n",
    "model.add(Conv1D(512, kernel_size=5, strides=1, padding='same', activation='relu'))\n",
    "model.add(MaxPooling1D(pool_size=2, strides = 2, padding = 'same'))\n",
    "model.add(BatchNormalization())\n",
    "\n",
    "model.add(LSTM(256, return_sequences=True))\n",
    "\n",
    "model.add(LSTM(128))\n",
    "\n",
    "model.add(Dense(128, activation='relu'))\n",
    "model.add(Dropout(0.5))\n",
    "\n",
    "model.add(Dense(64, activation='relu'))\n",
    "model.add(Dropout(0.5))\n",
    "\n",
    "model.add(Dense(32, activation='relu'))\n",
    "model.add(Dropout(0.2))\n",
    "\n",
    "model.add(Dense(16, activation='softmax'))\n",
    "\n",
    "optimiser = keras.optimizers.Adam(learning_rate=0.0001)\n",
    "model.compile(optimizer=optimiser,\n",
    "                  loss='categorical_crossentropy',\n",
    "                  metrics=['accuracy'])\n",
    "\n",
    "model.summary()"
   ]
  },
  {
   "cell_type": "code",
   "execution_count": 18,
   "id": "5dd1ea8c",
   "metadata": {
    "execution": {
     "iopub.execute_input": "2021-10-26T20:41:09.364120Z",
     "iopub.status.busy": "2021-10-26T20:41:09.363495Z",
     "iopub.status.idle": "2021-10-26T20:46:34.319537Z",
     "shell.execute_reply": "2021-10-26T20:46:34.318833Z",
     "shell.execute_reply.started": "2021-10-26T20:18:24.782127Z"
    },
    "papermill": {
     "duration": 324.981904,
     "end_time": "2021-10-26T20:46:34.319727",
     "exception": false,
     "start_time": "2021-10-26T20:41:09.337823",
     "status": "completed"
    },
    "tags": []
   },
   "outputs": [
    {
     "name": "stdout",
     "output_type": "stream",
     "text": [
      "Epoch 1/200\n"
     ]
    },
    {
     "name": "stderr",
     "output_type": "stream",
     "text": [
      "2021-10-26 20:41:09.410797: I tensorflow/compiler/mlir/mlir_graph_optimization_pass.cc:185] None of the MLIR Optimization Passes are enabled (registered 2)\n",
      "2021-10-26 20:41:13.205172: I tensorflow/stream_executor/cuda/cuda_dnn.cc:369] Loaded cuDNN version 8005\n"
     ]
    },
    {
     "name": "stdout",
     "output_type": "stream",
     "text": [
      "51/51 [==============================] - 12s 44ms/step - loss: 2.7458 - accuracy: 0.0750 - val_loss: 2.7653 - val_accuracy: 0.0722\n",
      "Epoch 2/200\n",
      "51/51 [==============================] - 1s 26ms/step - loss: 2.6871 - accuracy: 0.1188 - val_loss: 2.7587 - val_accuracy: 0.0815\n",
      "Epoch 3/200\n",
      "51/51 [==============================] - 1s 26ms/step - loss: 2.6311 - accuracy: 0.1259 - val_loss: 2.7592 - val_accuracy: 0.0796\n",
      "Epoch 4/200\n",
      "51/51 [==============================] - 1s 26ms/step - loss: 2.5523 - accuracy: 0.1568 - val_loss: 2.7744 - val_accuracy: 0.0713\n",
      "Epoch 5/200\n",
      "51/51 [==============================] - 1s 26ms/step - loss: 2.4568 - accuracy: 0.1855 - val_loss: 2.9218 - val_accuracy: 0.0713\n",
      "Epoch 6/200\n",
      "51/51 [==============================] - 1s 25ms/step - loss: 2.3485 - accuracy: 0.2173 - val_loss: 3.0882 - val_accuracy: 0.0713\n",
      "Epoch 7/200\n",
      "51/51 [==============================] - 1s 25ms/step - loss: 2.2607 - accuracy: 0.2253 - val_loss: 3.1655 - val_accuracy: 0.0778\n",
      "Epoch 8/200\n",
      "51/51 [==============================] - 1s 26ms/step - loss: 2.1781 - accuracy: 0.2633 - val_loss: 2.9806 - val_accuracy: 0.0917\n",
      "Epoch 9/200\n",
      "51/51 [==============================] - 1s 27ms/step - loss: 2.0956 - accuracy: 0.2818 - val_loss: 2.8480 - val_accuracy: 0.1296\n",
      "Epoch 10/200\n",
      "51/51 [==============================] - 1s 26ms/step - loss: 1.9772 - accuracy: 0.3142 - val_loss: 2.3446 - val_accuracy: 0.2463\n",
      "Epoch 11/200\n",
      "51/51 [==============================] - 1s 25ms/step - loss: 1.8723 - accuracy: 0.3410 - val_loss: 2.0114 - val_accuracy: 0.3750\n",
      "Epoch 12/200\n",
      "51/51 [==============================] - 1s 26ms/step - loss: 1.7972 - accuracy: 0.3698 - val_loss: 1.7719 - val_accuracy: 0.4657\n",
      "Epoch 13/200\n",
      "51/51 [==============================] - 1s 26ms/step - loss: 1.7364 - accuracy: 0.3870 - val_loss: 1.5553 - val_accuracy: 0.5509\n",
      "Epoch 14/200\n",
      "51/51 [==============================] - 1s 25ms/step - loss: 1.6600 - accuracy: 0.4185 - val_loss: 1.3788 - val_accuracy: 0.5991\n",
      "Epoch 15/200\n",
      "51/51 [==============================] - 1s 26ms/step - loss: 1.5954 - accuracy: 0.4410 - val_loss: 1.3142 - val_accuracy: 0.6000\n",
      "Epoch 16/200\n",
      "51/51 [==============================] - 1s 25ms/step - loss: 1.4880 - accuracy: 0.4756 - val_loss: 1.2186 - val_accuracy: 0.6241\n",
      "Epoch 17/200\n",
      "51/51 [==============================] - 1s 27ms/step - loss: 1.4063 - accuracy: 0.5157 - val_loss: 1.1675 - val_accuracy: 0.6343\n",
      "Epoch 18/200\n",
      "51/51 [==============================] - 1s 26ms/step - loss: 1.3714 - accuracy: 0.5145 - val_loss: 1.1655 - val_accuracy: 0.6407\n",
      "Epoch 19/200\n",
      "51/51 [==============================] - 1s 26ms/step - loss: 1.2915 - accuracy: 0.5355 - val_loss: 1.0787 - val_accuracy: 0.6704\n",
      "Epoch 20/200\n",
      "51/51 [==============================] - 1s 26ms/step - loss: 1.2115 - accuracy: 0.5636 - val_loss: 1.0358 - val_accuracy: 0.6667\n",
      "Epoch 21/200\n",
      "51/51 [==============================] - 1s 27ms/step - loss: 1.1763 - accuracy: 0.5898 - val_loss: 0.9883 - val_accuracy: 0.6870\n",
      "Epoch 22/200\n",
      "51/51 [==============================] - 1s 26ms/step - loss: 1.0999 - accuracy: 0.6213 - val_loss: 0.9518 - val_accuracy: 0.7139\n",
      "Epoch 23/200\n",
      "51/51 [==============================] - 1s 26ms/step - loss: 1.0854 - accuracy: 0.6133 - val_loss: 0.9471 - val_accuracy: 0.7130\n",
      "Epoch 24/200\n",
      "51/51 [==============================] - 1s 26ms/step - loss: 1.0039 - accuracy: 0.6410 - val_loss: 0.8853 - val_accuracy: 0.7269\n",
      "Epoch 25/200\n",
      "51/51 [==============================] - 1s 27ms/step - loss: 0.9752 - accuracy: 0.6537 - val_loss: 0.8810 - val_accuracy: 0.7333\n",
      "Epoch 26/200\n",
      "51/51 [==============================] - 1s 26ms/step - loss: 0.9144 - accuracy: 0.6793 - val_loss: 0.8332 - val_accuracy: 0.7500\n",
      "Epoch 27/200\n",
      "51/51 [==============================] - 1s 26ms/step - loss: 0.8858 - accuracy: 0.6883 - val_loss: 0.8347 - val_accuracy: 0.7444\n",
      "Epoch 28/200\n",
      "51/51 [==============================] - 1s 26ms/step - loss: 0.8582 - accuracy: 0.7090 - val_loss: 0.8312 - val_accuracy: 0.7519\n",
      "Epoch 29/200\n",
      "51/51 [==============================] - 1s 26ms/step - loss: 0.7832 - accuracy: 0.7340 - val_loss: 0.7929 - val_accuracy: 0.7769\n",
      "Epoch 30/200\n",
      "51/51 [==============================] - 1s 26ms/step - loss: 0.7211 - accuracy: 0.7485 - val_loss: 0.7234 - val_accuracy: 0.7981\n",
      "Epoch 31/200\n",
      "51/51 [==============================] - 1s 25ms/step - loss: 0.7454 - accuracy: 0.7457 - val_loss: 0.8264 - val_accuracy: 0.7648\n",
      "Epoch 32/200\n",
      "51/51 [==============================] - 1s 26ms/step - loss: 0.6923 - accuracy: 0.7688 - val_loss: 0.8240 - val_accuracy: 0.7602\n",
      "Epoch 33/200\n",
      "51/51 [==============================] - 1s 25ms/step - loss: 0.6612 - accuracy: 0.7701 - val_loss: 0.8038 - val_accuracy: 0.7852\n",
      "Epoch 34/200\n",
      "51/51 [==============================] - 1s 27ms/step - loss: 0.6020 - accuracy: 0.7855 - val_loss: 0.8606 - val_accuracy: 0.7722\n",
      "Epoch 35/200\n",
      "51/51 [==============================] - 1s 26ms/step - loss: 0.5992 - accuracy: 0.7904 - val_loss: 0.7904 - val_accuracy: 0.7898\n",
      "Epoch 36/200\n",
      "51/51 [==============================] - 1s 26ms/step - loss: 0.5844 - accuracy: 0.7981 - val_loss: 0.7860 - val_accuracy: 0.7954\n",
      "Epoch 37/200\n",
      "51/51 [==============================] - 1s 26ms/step - loss: 0.5343 - accuracy: 0.8160 - val_loss: 0.7818 - val_accuracy: 0.7861\n",
      "Epoch 38/200\n",
      "51/51 [==============================] - 1s 26ms/step - loss: 0.5405 - accuracy: 0.8238 - val_loss: 0.7448 - val_accuracy: 0.7944\n",
      "Epoch 39/200\n",
      "51/51 [==============================] - 1s 26ms/step - loss: 0.5097 - accuracy: 0.8216 - val_loss: 0.7853 - val_accuracy: 0.7954\n",
      "Epoch 40/200\n",
      "51/51 [==============================] - 1s 26ms/step - loss: 0.4993 - accuracy: 0.8429 - val_loss: 0.8566 - val_accuracy: 0.7880\n",
      "Epoch 41/200\n",
      "51/51 [==============================] - 1s 25ms/step - loss: 0.4922 - accuracy: 0.8398 - val_loss: 0.7713 - val_accuracy: 0.7954\n",
      "Epoch 42/200\n",
      "51/51 [==============================] - 1s 27ms/step - loss: 0.4444 - accuracy: 0.8506 - val_loss: 0.8790 - val_accuracy: 0.7778\n",
      "Epoch 43/200\n",
      "51/51 [==============================] - 1s 25ms/step - loss: 0.4541 - accuracy: 0.8534 - val_loss: 0.8317 - val_accuracy: 0.7935\n",
      "Epoch 44/200\n",
      "51/51 [==============================] - 1s 26ms/step - loss: 0.4709 - accuracy: 0.8488 - val_loss: 0.8590 - val_accuracy: 0.7963\n",
      "Epoch 45/200\n",
      "51/51 [==============================] - 1s 27ms/step - loss: 0.4616 - accuracy: 0.8485 - val_loss: 0.8641 - val_accuracy: 0.7935\n",
      "Epoch 46/200\n",
      "51/51 [==============================] - 1s 27ms/step - loss: 0.4485 - accuracy: 0.8466 - val_loss: 0.8887 - val_accuracy: 0.7991\n",
      "Epoch 47/200\n",
      "51/51 [==============================] - 1s 26ms/step - loss: 0.4183 - accuracy: 0.8654 - val_loss: 0.9073 - val_accuracy: 0.7889\n",
      "Epoch 48/200\n",
      "51/51 [==============================] - 1s 25ms/step - loss: 0.3879 - accuracy: 0.8781 - val_loss: 0.8578 - val_accuracy: 0.8056\n",
      "Epoch 49/200\n",
      "51/51 [==============================] - 1s 26ms/step - loss: 0.3361 - accuracy: 0.8849 - val_loss: 0.8359 - val_accuracy: 0.8074\n",
      "Epoch 50/200\n",
      "51/51 [==============================] - 1s 27ms/step - loss: 0.3423 - accuracy: 0.8938 - val_loss: 0.8546 - val_accuracy: 0.8213\n",
      "Epoch 51/200\n",
      "51/51 [==============================] - 1s 26ms/step - loss: 0.3291 - accuracy: 0.8873 - val_loss: 1.0324 - val_accuracy: 0.7981\n",
      "Epoch 52/200\n",
      "51/51 [==============================] - 1s 25ms/step - loss: 0.3114 - accuracy: 0.8948 - val_loss: 0.8430 - val_accuracy: 0.8287\n",
      "Epoch 53/200\n",
      "51/51 [==============================] - 1s 26ms/step - loss: 0.3537 - accuracy: 0.8858 - val_loss: 0.9744 - val_accuracy: 0.8111\n",
      "Epoch 54/200\n",
      "51/51 [==============================] - 1s 26ms/step - loss: 0.3427 - accuracy: 0.8889 - val_loss: 1.0485 - val_accuracy: 0.7963\n",
      "Epoch 55/200\n",
      "51/51 [==============================] - 1s 26ms/step - loss: 0.3400 - accuracy: 0.8951 - val_loss: 0.9865 - val_accuracy: 0.8074\n",
      "Epoch 56/200\n",
      "51/51 [==============================] - 1s 25ms/step - loss: 0.3412 - accuracy: 0.8969 - val_loss: 1.0736 - val_accuracy: 0.7852\n",
      "Epoch 57/200\n",
      "51/51 [==============================] - 1s 26ms/step - loss: 0.4317 - accuracy: 0.8648 - val_loss: 1.0742 - val_accuracy: 0.7694\n",
      "Epoch 58/200\n",
      "51/51 [==============================] - 1s 26ms/step - loss: 0.3626 - accuracy: 0.8861 - val_loss: 0.9572 - val_accuracy: 0.8037\n",
      "Epoch 59/200\n",
      "51/51 [==============================] - 1s 27ms/step - loss: 0.3088 - accuracy: 0.9006 - val_loss: 0.8803 - val_accuracy: 0.8102\n",
      "Epoch 60/200\n",
      "51/51 [==============================] - 1s 26ms/step - loss: 0.3188 - accuracy: 0.9025 - val_loss: 0.9633 - val_accuracy: 0.7935\n",
      "Epoch 61/200\n",
      "51/51 [==============================] - 1s 26ms/step - loss: 0.3223 - accuracy: 0.9025 - val_loss: 0.9108 - val_accuracy: 0.8019\n",
      "Epoch 62/200\n",
      "51/51 [==============================] - 1s 26ms/step - loss: 0.2868 - accuracy: 0.9068 - val_loss: 0.8875 - val_accuracy: 0.8111\n",
      "Epoch 63/200\n",
      "51/51 [==============================] - 1s 26ms/step - loss: 0.2678 - accuracy: 0.9117 - val_loss: 0.9946 - val_accuracy: 0.8019\n",
      "Epoch 64/200\n",
      "51/51 [==============================] - 1s 25ms/step - loss: 0.2529 - accuracy: 0.9198 - val_loss: 0.9073 - val_accuracy: 0.8065\n",
      "Epoch 65/200\n",
      "51/51 [==============================] - 1s 26ms/step - loss: 0.2603 - accuracy: 0.9046 - val_loss: 0.9656 - val_accuracy: 0.8157\n",
      "Epoch 66/200\n",
      "51/51 [==============================] - 1s 26ms/step - loss: 0.2257 - accuracy: 0.9210 - val_loss: 0.9055 - val_accuracy: 0.8231\n",
      "Epoch 67/200\n",
      "51/51 [==============================] - 1s 27ms/step - loss: 0.2432 - accuracy: 0.9194 - val_loss: 0.9621 - val_accuracy: 0.8093\n",
      "Epoch 68/200\n",
      "51/51 [==============================] - 1s 26ms/step - loss: 0.2036 - accuracy: 0.9346 - val_loss: 0.9556 - val_accuracy: 0.8213\n",
      "Epoch 69/200\n",
      "51/51 [==============================] - 1s 28ms/step - loss: 0.2281 - accuracy: 0.9241 - val_loss: 1.0166 - val_accuracy: 0.8204\n",
      "Epoch 70/200\n",
      "51/51 [==============================] - 1s 26ms/step - loss: 0.2198 - accuracy: 0.9256 - val_loss: 1.0196 - val_accuracy: 0.8185\n",
      "Epoch 71/200\n",
      "51/51 [==============================] - 1s 25ms/step - loss: 0.2060 - accuracy: 0.9377 - val_loss: 1.0177 - val_accuracy: 0.8139\n",
      "Epoch 72/200\n",
      "51/51 [==============================] - 1s 26ms/step - loss: 0.2054 - accuracy: 0.9324 - val_loss: 1.0440 - val_accuracy: 0.8296\n",
      "Epoch 73/200\n",
      "51/51 [==============================] - 1s 26ms/step - loss: 0.2002 - accuracy: 0.9296 - val_loss: 1.0125 - val_accuracy: 0.8241\n",
      "Epoch 74/200\n",
      "51/51 [==============================] - 1s 25ms/step - loss: 0.1893 - accuracy: 0.9377 - val_loss: 0.9374 - val_accuracy: 0.8324\n",
      "Epoch 75/200\n",
      "51/51 [==============================] - 1s 27ms/step - loss: 0.2156 - accuracy: 0.9306 - val_loss: 1.0222 - val_accuracy: 0.8222\n",
      "Epoch 76/200\n",
      "51/51 [==============================] - 1s 26ms/step - loss: 0.2397 - accuracy: 0.9250 - val_loss: 1.0683 - val_accuracy: 0.8176\n",
      "Epoch 77/200\n",
      "51/51 [==============================] - 1s 26ms/step - loss: 0.2186 - accuracy: 0.9278 - val_loss: 1.2132 - val_accuracy: 0.8000\n",
      "Epoch 78/200\n",
      "51/51 [==============================] - 1s 26ms/step - loss: 0.2474 - accuracy: 0.9265 - val_loss: 1.0972 - val_accuracy: 0.8139\n",
      "Epoch 79/200\n",
      "51/51 [==============================] - 1s 26ms/step - loss: 0.2671 - accuracy: 0.9167 - val_loss: 1.1894 - val_accuracy: 0.7944\n",
      "Epoch 80/200\n",
      "51/51 [==============================] - 1s 26ms/step - loss: 0.2359 - accuracy: 0.9306 - val_loss: 1.2446 - val_accuracy: 0.7889\n",
      "Epoch 81/200\n",
      "51/51 [==============================] - 1s 26ms/step - loss: 0.2742 - accuracy: 0.9182 - val_loss: 1.1643 - val_accuracy: 0.7954\n",
      "Epoch 82/200\n",
      "51/51 [==============================] - 1s 26ms/step - loss: 0.2592 - accuracy: 0.9238 - val_loss: 1.1971 - val_accuracy: 0.7824\n",
      "Epoch 83/200\n",
      "51/51 [==============================] - 1s 25ms/step - loss: 0.2042 - accuracy: 0.9407 - val_loss: 1.0750 - val_accuracy: 0.8009\n",
      "Epoch 84/200\n",
      "51/51 [==============================] - 1s 28ms/step - loss: 0.2090 - accuracy: 0.9336 - val_loss: 1.1719 - val_accuracy: 0.8102\n",
      "Epoch 85/200\n",
      "51/51 [==============================] - 1s 26ms/step - loss: 0.1896 - accuracy: 0.9361 - val_loss: 1.1409 - val_accuracy: 0.8056\n",
      "Epoch 86/200\n",
      "51/51 [==============================] - 1s 26ms/step - loss: 0.1825 - accuracy: 0.9429 - val_loss: 1.4045 - val_accuracy: 0.7778\n",
      "Epoch 87/200\n",
      "51/51 [==============================] - 1s 26ms/step - loss: 0.2251 - accuracy: 0.9349 - val_loss: 1.2362 - val_accuracy: 0.7843\n",
      "Epoch 88/200\n",
      "51/51 [==============================] - 1s 26ms/step - loss: 0.1843 - accuracy: 0.9395 - val_loss: 1.1103 - val_accuracy: 0.8148\n",
      "Epoch 89/200\n",
      "51/51 [==============================] - 1s 26ms/step - loss: 0.1931 - accuracy: 0.9410 - val_loss: 1.1465 - val_accuracy: 0.8130\n",
      "Epoch 90/200\n",
      "51/51 [==============================] - 1s 25ms/step - loss: 0.1848 - accuracy: 0.9401 - val_loss: 1.2028 - val_accuracy: 0.8065\n",
      "Epoch 91/200\n",
      "51/51 [==============================] - 1s 26ms/step - loss: 0.1627 - accuracy: 0.9525 - val_loss: 1.1570 - val_accuracy: 0.8194\n",
      "Epoch 92/200\n",
      "51/51 [==============================] - 1s 27ms/step - loss: 0.1517 - accuracy: 0.9531 - val_loss: 1.1335 - val_accuracy: 0.8278\n",
      "Epoch 93/200\n",
      "51/51 [==============================] - 1s 28ms/step - loss: 0.1595 - accuracy: 0.9441 - val_loss: 1.2522 - val_accuracy: 0.8037\n",
      "Epoch 94/200\n",
      "51/51 [==============================] - 1s 25ms/step - loss: 0.1660 - accuracy: 0.9451 - val_loss: 1.1441 - val_accuracy: 0.8167\n",
      "Epoch 95/200\n",
      "51/51 [==============================] - 1s 26ms/step - loss: 0.1527 - accuracy: 0.9500 - val_loss: 1.2447 - val_accuracy: 0.8093\n",
      "Epoch 96/200\n",
      "51/51 [==============================] - 1s 26ms/step - loss: 0.1542 - accuracy: 0.9506 - val_loss: 1.1996 - val_accuracy: 0.8333\n",
      "Epoch 97/200\n",
      "51/51 [==============================] - 1s 26ms/step - loss: 0.1321 - accuracy: 0.9549 - val_loss: 1.2269 - val_accuracy: 0.8278\n",
      "Epoch 98/200\n",
      "51/51 [==============================] - 1s 25ms/step - loss: 0.1334 - accuracy: 0.9568 - val_loss: 1.2236 - val_accuracy: 0.8204\n",
      "Epoch 99/200\n",
      "51/51 [==============================] - 1s 25ms/step - loss: 0.1618 - accuracy: 0.9491 - val_loss: 1.2197 - val_accuracy: 0.8139\n",
      "Epoch 100/200\n",
      "51/51 [==============================] - 1s 27ms/step - loss: 0.1594 - accuracy: 0.9531 - val_loss: 1.3203 - val_accuracy: 0.8046\n",
      "Epoch 101/200\n",
      "51/51 [==============================] - 1s 26ms/step - loss: 0.1727 - accuracy: 0.9491 - val_loss: 1.3135 - val_accuracy: 0.8167\n",
      "Epoch 102/200\n",
      "51/51 [==============================] - 1s 26ms/step - loss: 0.1797 - accuracy: 0.9460 - val_loss: 1.4568 - val_accuracy: 0.7787\n",
      "Epoch 103/200\n",
      "51/51 [==============================] - 1s 26ms/step - loss: 0.1947 - accuracy: 0.9451 - val_loss: 1.2176 - val_accuracy: 0.8111\n",
      "Epoch 104/200\n",
      "51/51 [==============================] - 1s 25ms/step - loss: 0.1468 - accuracy: 0.9503 - val_loss: 1.2025 - val_accuracy: 0.8222\n",
      "Epoch 105/200\n",
      "51/51 [==============================] - 1s 25ms/step - loss: 0.1594 - accuracy: 0.9481 - val_loss: 1.1072 - val_accuracy: 0.8352\n",
      "Epoch 106/200\n",
      "51/51 [==============================] - 1s 25ms/step - loss: 0.1285 - accuracy: 0.9596 - val_loss: 1.2074 - val_accuracy: 0.8296\n",
      "Epoch 107/200\n",
      "51/51 [==============================] - 1s 25ms/step - loss: 0.1480 - accuracy: 0.9577 - val_loss: 1.1944 - val_accuracy: 0.8306\n",
      "Epoch 108/200\n",
      "51/51 [==============================] - 1s 26ms/step - loss: 0.1441 - accuracy: 0.9534 - val_loss: 1.1711 - val_accuracy: 0.8287\n",
      "Epoch 109/200\n",
      "51/51 [==============================] - 1s 27ms/step - loss: 0.1206 - accuracy: 0.9602 - val_loss: 1.2813 - val_accuracy: 0.8213\n",
      "Epoch 110/200\n",
      "51/51 [==============================] - 1s 25ms/step - loss: 0.1177 - accuracy: 0.9614 - val_loss: 1.2407 - val_accuracy: 0.8278\n",
      "Epoch 111/200\n",
      "51/51 [==============================] - 1s 25ms/step - loss: 0.1171 - accuracy: 0.9596 - val_loss: 1.2080 - val_accuracy: 0.8278\n",
      "Epoch 112/200\n",
      "51/51 [==============================] - 1s 26ms/step - loss: 0.1156 - accuracy: 0.9636 - val_loss: 1.2336 - val_accuracy: 0.8306\n",
      "Epoch 113/200\n",
      "51/51 [==============================] - 1s 26ms/step - loss: 0.1193 - accuracy: 0.9642 - val_loss: 1.2791 - val_accuracy: 0.8306\n",
      "Epoch 114/200\n",
      "51/51 [==============================] - 1s 25ms/step - loss: 0.1007 - accuracy: 0.9651 - val_loss: 1.2849 - val_accuracy: 0.8333\n",
      "Epoch 115/200\n",
      "51/51 [==============================] - 1s 26ms/step - loss: 0.0953 - accuracy: 0.9694 - val_loss: 1.2941 - val_accuracy: 0.8426\n",
      "Epoch 116/200\n",
      "51/51 [==============================] - 1s 26ms/step - loss: 0.1040 - accuracy: 0.9648 - val_loss: 1.2957 - val_accuracy: 0.8315\n",
      "Epoch 117/200\n",
      "51/51 [==============================] - 2s 30ms/step - loss: 0.0920 - accuracy: 0.9719 - val_loss: 1.2933 - val_accuracy: 0.8454\n",
      "Epoch 118/200\n",
      "51/51 [==============================] - 1s 25ms/step - loss: 0.1129 - accuracy: 0.9651 - val_loss: 1.2723 - val_accuracy: 0.8407\n",
      "Epoch 119/200\n",
      "51/51 [==============================] - 1s 26ms/step - loss: 0.1553 - accuracy: 0.9586 - val_loss: 1.3216 - val_accuracy: 0.8250\n",
      "Epoch 120/200\n",
      "51/51 [==============================] - 1s 25ms/step - loss: 0.1185 - accuracy: 0.9639 - val_loss: 1.3787 - val_accuracy: 0.8130\n",
      "Epoch 121/200\n",
      "51/51 [==============================] - 1s 26ms/step - loss: 0.1426 - accuracy: 0.9571 - val_loss: 1.5082 - val_accuracy: 0.8083\n",
      "Epoch 122/200\n",
      "51/51 [==============================] - 1s 25ms/step - loss: 0.2976 - accuracy: 0.9336 - val_loss: 2.1384 - val_accuracy: 0.7315\n",
      "Epoch 123/200\n",
      "51/51 [==============================] - 1s 26ms/step - loss: 0.4803 - accuracy: 0.8975 - val_loss: 1.4905 - val_accuracy: 0.7602\n",
      "Epoch 124/200\n",
      "51/51 [==============================] - 1s 26ms/step - loss: 0.2679 - accuracy: 0.9327 - val_loss: 1.3224 - val_accuracy: 0.7778\n",
      "Epoch 125/200\n",
      "51/51 [==============================] - 1s 27ms/step - loss: 0.2049 - accuracy: 0.9460 - val_loss: 1.1583 - val_accuracy: 0.8130\n",
      "Epoch 126/200\n",
      "51/51 [==============================] - 1s 26ms/step - loss: 0.1306 - accuracy: 0.9623 - val_loss: 1.1444 - val_accuracy: 0.8139\n",
      "Epoch 127/200\n",
      "51/51 [==============================] - 1s 26ms/step - loss: 0.1105 - accuracy: 0.9679 - val_loss: 1.1802 - val_accuracy: 0.8157\n",
      "Epoch 128/200\n",
      "51/51 [==============================] - 1s 26ms/step - loss: 0.1142 - accuracy: 0.9602 - val_loss: 1.1383 - val_accuracy: 0.8167\n",
      "Epoch 129/200\n",
      "51/51 [==============================] - 1s 26ms/step - loss: 0.1186 - accuracy: 0.9590 - val_loss: 1.2214 - val_accuracy: 0.8194\n",
      "Epoch 130/200\n",
      "51/51 [==============================] - 1s 26ms/step - loss: 0.1254 - accuracy: 0.9633 - val_loss: 1.3331 - val_accuracy: 0.8102\n",
      "Epoch 131/200\n",
      "51/51 [==============================] - 1s 26ms/step - loss: 0.1348 - accuracy: 0.9580 - val_loss: 1.3335 - val_accuracy: 0.8120\n",
      "Epoch 132/200\n",
      "51/51 [==============================] - 1s 26ms/step - loss: 0.1515 - accuracy: 0.9633 - val_loss: 1.3023 - val_accuracy: 0.7981\n",
      "Epoch 133/200\n",
      "51/51 [==============================] - 1s 26ms/step - loss: 0.1113 - accuracy: 0.9664 - val_loss: 1.2231 - val_accuracy: 0.8194\n",
      "Epoch 134/200\n",
      "51/51 [==============================] - 1s 26ms/step - loss: 0.1004 - accuracy: 0.9701 - val_loss: 1.3092 - val_accuracy: 0.8130\n",
      "Epoch 135/200\n",
      "51/51 [==============================] - 1s 25ms/step - loss: 0.1001 - accuracy: 0.9667 - val_loss: 1.2838 - val_accuracy: 0.8204\n",
      "Epoch 136/200\n",
      "51/51 [==============================] - 1s 26ms/step - loss: 0.1159 - accuracy: 0.9605 - val_loss: 1.2695 - val_accuracy: 0.8241\n",
      "Epoch 137/200\n",
      "51/51 [==============================] - 1s 25ms/step - loss: 0.1434 - accuracy: 0.9559 - val_loss: 1.3181 - val_accuracy: 0.8167\n",
      "Epoch 138/200\n",
      "51/51 [==============================] - 1s 25ms/step - loss: 0.1042 - accuracy: 0.9682 - val_loss: 1.2914 - val_accuracy: 0.8213\n",
      "Epoch 139/200\n",
      "51/51 [==============================] - 1s 25ms/step - loss: 0.1002 - accuracy: 0.9660 - val_loss: 1.2226 - val_accuracy: 0.8269\n",
      "Epoch 140/200\n",
      "51/51 [==============================] - 1s 26ms/step - loss: 0.1055 - accuracy: 0.9673 - val_loss: 1.2796 - val_accuracy: 0.8324\n",
      "Epoch 141/200\n",
      "51/51 [==============================] - 1s 28ms/step - loss: 0.0836 - accuracy: 0.9710 - val_loss: 1.2502 - val_accuracy: 0.8435\n",
      "Epoch 142/200\n",
      "51/51 [==============================] - 1s 27ms/step - loss: 0.0835 - accuracy: 0.9725 - val_loss: 1.2644 - val_accuracy: 0.8454\n",
      "Epoch 143/200\n",
      "51/51 [==============================] - 1s 25ms/step - loss: 0.0835 - accuracy: 0.9698 - val_loss: 1.3088 - val_accuracy: 0.8417\n",
      "Epoch 144/200\n",
      "51/51 [==============================] - 1s 26ms/step - loss: 0.0978 - accuracy: 0.9694 - val_loss: 1.3039 - val_accuracy: 0.8370\n",
      "Epoch 145/200\n",
      "51/51 [==============================] - 1s 25ms/step - loss: 0.1226 - accuracy: 0.9664 - val_loss: 1.3633 - val_accuracy: 0.8296\n",
      "Epoch 146/200\n",
      "51/51 [==============================] - 1s 26ms/step - loss: 0.2100 - accuracy: 0.9562 - val_loss: 1.4581 - val_accuracy: 0.8065\n",
      "Epoch 147/200\n",
      "51/51 [==============================] - 1s 25ms/step - loss: 0.1637 - accuracy: 0.9559 - val_loss: 1.4387 - val_accuracy: 0.7981\n",
      "Epoch 148/200\n",
      "51/51 [==============================] - 1s 26ms/step - loss: 0.2609 - accuracy: 0.9481 - val_loss: 1.2136 - val_accuracy: 0.8019\n",
      "Epoch 149/200\n",
      "51/51 [==============================] - 1s 26ms/step - loss: 0.1568 - accuracy: 0.9623 - val_loss: 1.2281 - val_accuracy: 0.8278\n",
      "Epoch 150/200\n",
      "51/51 [==============================] - 1s 26ms/step - loss: 0.1352 - accuracy: 0.9602 - val_loss: 1.2451 - val_accuracy: 0.8213\n",
      "Epoch 151/200\n",
      "51/51 [==============================] - 1s 26ms/step - loss: 0.1288 - accuracy: 0.9654 - val_loss: 1.1803 - val_accuracy: 0.8250\n",
      "Epoch 152/200\n",
      "51/51 [==============================] - 1s 25ms/step - loss: 0.1436 - accuracy: 0.9645 - val_loss: 1.3055 - val_accuracy: 0.8213\n",
      "Epoch 153/200\n",
      "51/51 [==============================] - 1s 25ms/step - loss: 0.1299 - accuracy: 0.9636 - val_loss: 1.4328 - val_accuracy: 0.8037\n",
      "Epoch 154/200\n",
      "51/51 [==============================] - 1s 25ms/step - loss: 0.1305 - accuracy: 0.9685 - val_loss: 1.0916 - val_accuracy: 0.8213\n",
      "Epoch 155/200\n",
      "51/51 [==============================] - 1s 27ms/step - loss: 0.1043 - accuracy: 0.9694 - val_loss: 1.2404 - val_accuracy: 0.8231\n",
      "Epoch 156/200\n",
      "51/51 [==============================] - 1s 26ms/step - loss: 0.1077 - accuracy: 0.9676 - val_loss: 1.1025 - val_accuracy: 0.8315\n",
      "Epoch 157/200\n",
      "51/51 [==============================] - 1s 26ms/step - loss: 0.0777 - accuracy: 0.9775 - val_loss: 1.1235 - val_accuracy: 0.8389\n",
      "Epoch 158/200\n",
      "51/51 [==============================] - 1s 26ms/step - loss: 0.0799 - accuracy: 0.9784 - val_loss: 1.2064 - val_accuracy: 0.8269\n",
      "Epoch 159/200\n",
      "51/51 [==============================] - 1s 27ms/step - loss: 0.0858 - accuracy: 0.9731 - val_loss: 1.2142 - val_accuracy: 0.8269\n",
      "Epoch 160/200\n",
      "51/51 [==============================] - 1s 25ms/step - loss: 0.0758 - accuracy: 0.9756 - val_loss: 1.2212 - val_accuracy: 0.8324\n",
      "Epoch 161/200\n",
      "51/51 [==============================] - 1s 26ms/step - loss: 0.1139 - accuracy: 0.9676 - val_loss: 1.2619 - val_accuracy: 0.8222\n",
      "Epoch 162/200\n",
      "51/51 [==============================] - 1s 25ms/step - loss: 0.0931 - accuracy: 0.9685 - val_loss: 1.2333 - val_accuracy: 0.8278\n",
      "Epoch 163/200\n",
      "51/51 [==============================] - 1s 26ms/step - loss: 0.0698 - accuracy: 0.9765 - val_loss: 1.1892 - val_accuracy: 0.8407\n",
      "Epoch 164/200\n",
      "51/51 [==============================] - 1s 25ms/step - loss: 0.0701 - accuracy: 0.9756 - val_loss: 1.2028 - val_accuracy: 0.8426\n",
      "Epoch 165/200\n",
      "51/51 [==============================] - 1s 28ms/step - loss: 0.0731 - accuracy: 0.9775 - val_loss: 1.1690 - val_accuracy: 0.8407\n",
      "Epoch 166/200\n",
      "51/51 [==============================] - 1s 25ms/step - loss: 0.0679 - accuracy: 0.9762 - val_loss: 1.1950 - val_accuracy: 0.8435\n",
      "Epoch 167/200\n",
      "51/51 [==============================] - 1s 27ms/step - loss: 0.0762 - accuracy: 0.9719 - val_loss: 1.1729 - val_accuracy: 0.8528\n",
      "Epoch 168/200\n",
      "51/51 [==============================] - 1s 26ms/step - loss: 0.0797 - accuracy: 0.9747 - val_loss: 1.1916 - val_accuracy: 0.8546\n",
      "Epoch 169/200\n",
      "51/51 [==============================] - 1s 25ms/step - loss: 0.0657 - accuracy: 0.9802 - val_loss: 1.2810 - val_accuracy: 0.8444\n",
      "Epoch 170/200\n",
      "51/51 [==============================] - 1s 25ms/step - loss: 0.0702 - accuracy: 0.9787 - val_loss: 1.2398 - val_accuracy: 0.8426\n",
      "Epoch 171/200\n",
      "51/51 [==============================] - 1s 26ms/step - loss: 0.0741 - accuracy: 0.9744 - val_loss: 1.2873 - val_accuracy: 0.8435\n",
      "Epoch 172/200\n",
      "51/51 [==============================] - 1s 25ms/step - loss: 0.0751 - accuracy: 0.9738 - val_loss: 1.3399 - val_accuracy: 0.8296\n",
      "Epoch 173/200\n",
      "51/51 [==============================] - 1s 25ms/step - loss: 0.0685 - accuracy: 0.9775 - val_loss: 1.3423 - val_accuracy: 0.8398\n",
      "Epoch 174/200\n",
      "51/51 [==============================] - 1s 26ms/step - loss: 0.0741 - accuracy: 0.9744 - val_loss: 1.3883 - val_accuracy: 0.8352\n",
      "Epoch 175/200\n",
      "51/51 [==============================] - 1s 27ms/step - loss: 0.0792 - accuracy: 0.9738 - val_loss: 1.4485 - val_accuracy: 0.8343\n",
      "Epoch 176/200\n",
      "51/51 [==============================] - 1s 26ms/step - loss: 0.0677 - accuracy: 0.9787 - val_loss: 1.4122 - val_accuracy: 0.8380\n",
      "Epoch 177/200\n",
      "51/51 [==============================] - 1s 26ms/step - loss: 0.0738 - accuracy: 0.9744 - val_loss: 1.4439 - val_accuracy: 0.8352\n",
      "Epoch 178/200\n",
      "51/51 [==============================] - 1s 26ms/step - loss: 0.1196 - accuracy: 0.9728 - val_loss: 1.6183 - val_accuracy: 0.8231\n",
      "Epoch 179/200\n",
      "51/51 [==============================] - 1s 27ms/step - loss: 0.1703 - accuracy: 0.9583 - val_loss: 1.6716 - val_accuracy: 0.7870\n",
      "Epoch 180/200\n",
      "51/51 [==============================] - 1s 25ms/step - loss: 0.1941 - accuracy: 0.9540 - val_loss: 1.6750 - val_accuracy: 0.7787\n",
      "Epoch 181/200\n",
      "51/51 [==============================] - 1s 25ms/step - loss: 0.2256 - accuracy: 0.9481 - val_loss: 1.6859 - val_accuracy: 0.7759\n",
      "Epoch 182/200\n",
      "51/51 [==============================] - 1s 25ms/step - loss: 0.1842 - accuracy: 0.9568 - val_loss: 1.5341 - val_accuracy: 0.7880\n",
      "Epoch 183/200\n",
      "51/51 [==============================] - 1s 26ms/step - loss: 0.1476 - accuracy: 0.9642 - val_loss: 1.4239 - val_accuracy: 0.8148\n",
      "Epoch 184/200\n",
      "51/51 [==============================] - 1s 27ms/step - loss: 0.1191 - accuracy: 0.9633 - val_loss: 1.3305 - val_accuracy: 0.8148\n",
      "Epoch 185/200\n",
      "51/51 [==============================] - 1s 26ms/step - loss: 0.0742 - accuracy: 0.9775 - val_loss: 1.3203 - val_accuracy: 0.8176\n",
      "Epoch 186/200\n",
      "51/51 [==============================] - 1s 26ms/step - loss: 0.0702 - accuracy: 0.9781 - val_loss: 1.2568 - val_accuracy: 0.8306\n",
      "Epoch 187/200\n",
      "51/51 [==============================] - 1s 26ms/step - loss: 0.0737 - accuracy: 0.9781 - val_loss: 1.2384 - val_accuracy: 0.8287\n",
      "Epoch 188/200\n",
      "51/51 [==============================] - 1s 26ms/step - loss: 0.0647 - accuracy: 0.9799 - val_loss: 1.2746 - val_accuracy: 0.8315\n",
      "Epoch 189/200\n",
      "51/51 [==============================] - 1s 28ms/step - loss: 0.0708 - accuracy: 0.9765 - val_loss: 1.3069 - val_accuracy: 0.8324\n",
      "Epoch 190/200\n",
      "51/51 [==============================] - 1s 26ms/step - loss: 0.0641 - accuracy: 0.9796 - val_loss: 1.3663 - val_accuracy: 0.8296\n",
      "Epoch 191/200\n",
      "51/51 [==============================] - 1s 26ms/step - loss: 0.0539 - accuracy: 0.9833 - val_loss: 1.3715 - val_accuracy: 0.8296\n",
      "Epoch 192/200\n",
      "51/51 [==============================] - 1s 27ms/step - loss: 0.0610 - accuracy: 0.9802 - val_loss: 1.4257 - val_accuracy: 0.8352\n",
      "Epoch 193/200\n",
      "51/51 [==============================] - 1s 26ms/step - loss: 0.0626 - accuracy: 0.9799 - val_loss: 1.4096 - val_accuracy: 0.8398\n",
      "Epoch 194/200\n",
      "51/51 [==============================] - 1s 25ms/step - loss: 0.0846 - accuracy: 0.9793 - val_loss: 1.4908 - val_accuracy: 0.8185\n",
      "Epoch 195/200\n",
      "51/51 [==============================] - 1s 26ms/step - loss: 0.1080 - accuracy: 0.9719 - val_loss: 1.6546 - val_accuracy: 0.8028\n",
      "Epoch 196/200\n",
      "51/51 [==============================] - 1s 26ms/step - loss: 0.1779 - accuracy: 0.9673 - val_loss: 1.4671 - val_accuracy: 0.8167\n",
      "Epoch 197/200\n",
      "51/51 [==============================] - 1s 25ms/step - loss: 0.0977 - accuracy: 0.9750 - val_loss: 1.3937 - val_accuracy: 0.8222\n",
      "Epoch 198/200\n",
      "51/51 [==============================] - 1s 26ms/step - loss: 0.0963 - accuracy: 0.9738 - val_loss: 1.4698 - val_accuracy: 0.8102\n",
      "Epoch 199/200\n",
      "51/51 [==============================] - 1s 26ms/step - loss: 0.0688 - accuracy: 0.9781 - val_loss: 1.3928 - val_accuracy: 0.8194\n",
      "Epoch 200/200\n",
      "51/51 [==============================] - 1s 27ms/step - loss: 0.0657 - accuracy: 0.9802 - val_loss: 1.3909 - val_accuracy: 0.8278\n"
     ]
    }
   ],
   "source": [
    "history = model.fit(x_train1, y_train, batch_size=64, epochs=200, validation_data=(x_test1, y_test))"
   ]
  },
  {
   "cell_type": "code",
   "execution_count": 19,
   "id": "d5a8c377",
   "metadata": {
    "execution": {
     "iopub.execute_input": "2021-10-26T20:46:36.348908Z",
     "iopub.status.busy": "2021-10-26T20:46:36.348048Z",
     "iopub.status.idle": "2021-10-26T20:46:36.688036Z",
     "shell.execute_reply": "2021-10-26T20:46:36.688634Z",
     "shell.execute_reply.started": "2021-10-26T20:23:30.445083Z"
    },
    "papermill": {
     "duration": 1.349608,
     "end_time": "2021-10-26T20:46:36.688837",
     "exception": false,
     "start_time": "2021-10-26T20:46:35.339229",
     "status": "completed"
    },
    "tags": []
   },
   "outputs": [
    {
     "name": "stdout",
     "output_type": "stream",
     "text": [
      "34/34 [==============================] - 0s 8ms/step - loss: 1.3909 - accuracy: 0.8278\n",
      "Accuracy on test data :  82.77778029441833 %\n"
     ]
    }
   ],
   "source": [
    "print(\"Accuracy on test data : \" , model.evaluate(x_test1,y_test)[1]*100 , \"%\")\n"
   ]
  },
  {
   "cell_type": "code",
   "execution_count": 20,
   "id": "b7add408",
   "metadata": {
    "execution": {
     "iopub.execute_input": "2021-10-26T20:46:38.830069Z",
     "iopub.status.busy": "2021-10-26T20:46:38.828709Z",
     "iopub.status.idle": "2021-10-26T20:46:39.561574Z",
     "shell.execute_reply": "2021-10-26T20:46:39.561064Z",
     "shell.execute_reply.started": "2021-10-26T20:23:59.255352Z"
    },
    "papermill": {
     "duration": 1.813598,
     "end_time": "2021-10-26T20:46:39.561720",
     "exception": false,
     "start_time": "2021-10-26T20:46:37.748122",
     "status": "completed"
    },
    "tags": []
   },
   "outputs": [
    {
     "data": {
      "image/png": "[encoded data removed]",
      "text/plain": [
       "<Figure size 1440x432 with 2 Axes>"
      ]
     },
     "metadata": {
      "needs_background": "light"
     },
     "output_type": "display_data"
    }
   ],
   "source": [
    "epochs = [i for i in range(200)]\n",
    "fig , ax = plt.subplots(1,2)\n",
    "train_acc = history.history['accuracy']\n",
    "train_loss = history.history['loss']\n",
    "test_acc = history.history['val_accuracy']\n",
    "test_loss = history.history['val_loss']\n",
    "\n",
    "fig.set_size_inches(20,6)\n",
    "ax[0].plot(epochs , train_loss , label = 'Training Loss')\n",
    "ax[0].plot(epochs , test_loss , label = 'Testing Loss')\n",
    "ax[0].set_title('Training & Testing Loss')\n",
    "ax[0].legend()\n",
    "ax[0].set_xlabel(\"Epochs\")\n",
    "\n",
    "ax[1].plot(epochs , train_acc , label = 'Training Accuracy')\n",
    "ax[1].plot(epochs , test_acc , label = 'Testing Accuracy')\n",
    "ax[1].set_title('Training & Testing Accuracy')\n",
    "ax[1].legend()\n",
    "ax[1].set_xlabel(\"Epochs\")\n",
    "plt.show()"
   ]
  },
  {
   "cell_type": "code",
   "execution_count": 21,
   "id": "f758be12",
   "metadata": {
    "execution": {
     "iopub.execute_input": "2021-10-26T20:46:41.604713Z",
     "iopub.status.busy": "2021-10-26T20:46:41.603888Z",
     "iopub.status.idle": "2021-10-26T20:46:42.410058Z",
     "shell.execute_reply": "2021-10-26T20:46:42.409546Z",
     "shell.execute_reply.started": "2021-10-26T20:24:10.539752Z"
    },
    "papermill": {
     "duration": 1.832347,
     "end_time": "2021-10-26T20:46:42.410283",
     "exception": false,
     "start_time": "2021-10-26T20:46:40.577936",
     "status": "completed"
    },
    "tags": []
   },
   "outputs": [],
   "source": [
    "pred_test = model.predict(x_test1)\n",
    "y_pred = encoder.inverse_transform(pred_test)\n",
    "\n",
    "y_test = encoder.inverse_transform(y_test)"
   ]
  },
  {
   "cell_type": "code",
   "execution_count": 22,
   "id": "8066ffd1",
   "metadata": {
    "execution": {
     "iopub.execute_input": "2021-10-26T20:46:44.450009Z",
     "iopub.status.busy": "2021-10-26T20:46:44.448990Z",
     "iopub.status.idle": "2021-10-26T20:46:44.453190Z",
     "shell.execute_reply": "2021-10-26T20:46:44.452772Z",
     "shell.execute_reply.started": "2021-10-26T20:24:14.620433Z"
    },
    "papermill": {
     "duration": 1.026833,
     "end_time": "2021-10-26T20:46:44.453315",
     "exception": false,
     "start_time": "2021-10-26T20:46:43.426482",
     "status": "completed"
    },
    "tags": []
   },
   "outputs": [
    {
     "data": {
      "text/html": [
       "<div>\n",
       "<style scoped>\n",
       "    .dataframe tbody tr th:only-of-type {\n",
       "        vertical-align: middle;\n",
       "    }\n",
       "\n",
       "    .dataframe tbody tr th {\n",
       "        vertical-align: top;\n",
       "    }\n",
       "\n",
       "    .dataframe thead th {\n",
       "        text-align: right;\n",
       "    }\n",
       "</style>\n",
       "<table border=\"1\" class=\"dataframe\">\n",
       "  <thead>\n",
       "    <tr style=\"text-align: right;\">\n",
       "      <th></th>\n",
       "      <th>Predicted Labels</th>\n",
       "      <th>Actual Labels</th>\n",
       "    </tr>\n",
       "  </thead>\n",
       "  <tbody>\n",
       "    <tr>\n",
       "      <th>0</th>\n",
       "      <td>female_sad</td>\n",
       "      <td>female_sad</td>\n",
       "    </tr>\n",
       "    <tr>\n",
       "      <th>1</th>\n",
       "      <td>male_disgust</td>\n",
       "      <td>male_happy</td>\n",
       "    </tr>\n",
       "    <tr>\n",
       "      <th>2</th>\n",
       "      <td>female_surprise</td>\n",
       "      <td>female_surprise</td>\n",
       "    </tr>\n",
       "    <tr>\n",
       "      <th>3</th>\n",
       "      <td>female_angry</td>\n",
       "      <td>female_angry</td>\n",
       "    </tr>\n",
       "    <tr>\n",
       "      <th>4</th>\n",
       "      <td>female_surprise</td>\n",
       "      <td>female_fear</td>\n",
       "    </tr>\n",
       "    <tr>\n",
       "      <th>5</th>\n",
       "      <td>female_sad</td>\n",
       "      <td>female_sad</td>\n",
       "    </tr>\n",
       "    <tr>\n",
       "      <th>6</th>\n",
       "      <td>male_disgust</td>\n",
       "      <td>male_disgust</td>\n",
       "    </tr>\n",
       "    <tr>\n",
       "      <th>7</th>\n",
       "      <td>male_sad</td>\n",
       "      <td>male_sad</td>\n",
       "    </tr>\n",
       "    <tr>\n",
       "      <th>8</th>\n",
       "      <td>female_surprise</td>\n",
       "      <td>female_surprise</td>\n",
       "    </tr>\n",
       "    <tr>\n",
       "      <th>9</th>\n",
       "      <td>male_calm</td>\n",
       "      <td>male_calm</td>\n",
       "    </tr>\n",
       "  </tbody>\n",
       "</table>\n",
       "</div>"
      ],
      "text/plain": [
       "  Predicted Labels    Actual Labels\n",
       "0       female_sad       female_sad\n",
       "1     male_disgust       male_happy\n",
       "2  female_surprise  female_surprise\n",
       "3     female_angry     female_angry\n",
       "4  female_surprise      female_fear\n",
       "5       female_sad       female_sad\n",
       "6     male_disgust     male_disgust\n",
       "7         male_sad         male_sad\n",
       "8  female_surprise  female_surprise\n",
       "9        male_calm        male_calm"
      ]
     },
     "execution_count": 22,
     "metadata": {},
     "output_type": "execute_result"
    }
   ],
   "source": [
    "df = pd.DataFrame(columns=['Predicted Labels', 'Actual Labels'])\n",
    "df['Predicted Labels'] = y_pred.flatten()\n",
    "df['Actual Labels'] = y_test.flatten()\n",
    "\n",
    "df.head(10)"
   ]
  },
  {
   "cell_type": "code",
   "execution_count": 23,
   "id": "7c022516",
   "metadata": {
    "execution": {
     "iopub.execute_input": "2021-10-26T20:46:46.539427Z",
     "iopub.status.busy": "2021-10-26T20:46:46.538515Z",
     "iopub.status.idle": "2021-10-26T20:46:47.737321Z",
     "shell.execute_reply": "2021-10-26T20:46:47.737791Z",
     "shell.execute_reply.started": "2021-10-26T20:25:07.400133Z"
    },
    "papermill": {
     "duration": 2.267116,
     "end_time": "2021-10-26T20:46:47.737950",
     "exception": false,
     "start_time": "2021-10-26T20:46:45.470834",
     "status": "completed"
    },
    "tags": []
   },
   "outputs": [
    {
     "data": {
      "image/png": "[encoded data removed]",
      "text/plain": [
       "<Figure size 864x720 with 2 Axes>"
      ]
     },
     "metadata": {
      "needs_background": "light"
     },
     "output_type": "display_data"
    }
   ],
   "source": [
    "cm = confusion_matrix(y_test, y_pred)\n",
    "plt.figure(figsize = (12, 10))\n",
    "cm = pd.DataFrame(cm , index = [i for i in encoder.categories_] , columns = [i for i in encoder.categories_])\n",
    "sns.heatmap(cm, linecolor='white', cmap='Blues', linewidth=1, annot=True, fmt='')\n",
    "plt.title('Confusion Matrix', size=20)\n",
    "plt.xlabel('Predicted Labels', size=14)\n",
    "plt.ylabel('Actual Labels', size=14)\n",
    "plt.show()"
   ]
  },
  {
   "cell_type": "code",
   "execution_count": 24,
   "id": "7b2cf042",
   "metadata": {
    "execution": {
     "iopub.execute_input": "2021-10-26T20:46:49.894311Z",
     "iopub.status.busy": "2021-10-26T20:46:49.893539Z",
     "iopub.status.idle": "2021-10-26T20:46:49.957645Z",
     "shell.execute_reply": "2021-10-26T20:46:49.958193Z",
     "shell.execute_reply.started": "2021-10-26T20:25:19.395214Z"
    },
    "papermill": {
     "duration": 1.190453,
     "end_time": "2021-10-26T20:46:49.958348",
     "exception": false,
     "start_time": "2021-10-26T20:46:48.767895",
     "status": "completed"
    },
    "tags": []
   },
   "outputs": [
    {
     "name": "stdout",
     "output_type": "stream",
     "text": [
      "                 precision    recall  f1-score   support\n",
      "\n",
      "   female_angry       0.85      0.89      0.87        64\n",
      "    female_calm       0.86      0.87      0.86        83\n",
      " female_disgust       0.83      0.76      0.79        68\n",
      "    female_fear       0.90      0.86      0.88        90\n",
      "   female_happy       0.82      0.81      0.81        73\n",
      " female_neutral       0.71      0.73      0.72        33\n",
      "     female_sad       0.77      0.78      0.77        72\n",
      "female_surprise       0.87      0.91      0.89        66\n",
      "     male_angry       0.94      0.85      0.89        60\n",
      "      male_calm       0.78      0.83      0.80        69\n",
      "   male_disgust       0.82      0.82      0.82        77\n",
      "      male_fear       0.81      0.83      0.82        65\n",
      "     male_happy       0.84      0.85      0.84        73\n",
      "   male_neutral       0.81      0.68      0.74        38\n",
      "       male_sad       0.81      0.86      0.83        72\n",
      "  male_surprise       0.79      0.81      0.80        77\n",
      "\n",
      "       accuracy                           0.83      1080\n",
      "      macro avg       0.82      0.82      0.82      1080\n",
      "   weighted avg       0.83      0.83      0.83      1080\n",
      "\n"
     ]
    }
   ],
   "source": [
    "print(classification_report(y_test, y_pred))\n"
   ]
  },
  {
   "cell_type": "code",
   "execution_count": 25,
   "id": "b28e06df",
   "metadata": {
    "execution": {
     "iopub.execute_input": "2021-10-26T20:46:52.157471Z",
     "iopub.status.busy": "2021-10-26T20:46:52.156612Z",
     "iopub.status.idle": "2021-10-26T20:46:52.548851Z",
     "shell.execute_reply": "2021-10-26T20:46:52.549904Z",
     "shell.execute_reply.started": "2021-10-26T20:25:59.465692Z"
    },
    "papermill": {
     "duration": 1.413571,
     "end_time": "2021-10-26T20:46:52.550132",
     "exception": false,
     "start_time": "2021-10-26T20:46:51.136561",
     "status": "completed"
    },
    "tags": []
   },
   "outputs": [
    {
     "name": "stdout",
     "output_type": "stream",
     "text": [
      "Saved trained model at /kaggle/working/saved_models/Emotion_Detection_1D_CNN_Model.h5 \n"
     ]
    }
   ],
   "source": [
    "model_name = 'Emotion_Detection_1D_CNN_Model.h5'\n",
    "save_dir = os.path.join(os.getcwd(), 'saved_models')\n",
    "# Save model and weights\n",
    "if not os.path.isdir(save_dir):\n",
    "    os.makedirs(save_dir)\n",
    "model_path = os.path.join(save_dir, model_name)\n",
    "model.save(model_path)\n",
    "print('Saved trained model at %s ' % model_path)"
   ]
  }
 ],
 "metadata": {
  "kernelspec": {
   "display_name": "Python 3",
   "language": "python",
   "name": "python3"
  },
  "language_info": {
   "codemirror_mode": {
    "name": "ipython",
    "version": 3
   },
   "file_extension": ".py",
   "mimetype": "text/x-python",
   "name": "python",
   "nbconvert_exporter": "python",
   "pygments_lexer": "ipython3",
   "version": "3.7.10"
  },
  "papermill": {
   "default_parameters": {},
   "duration": 929.937748,
   "end_time": "2021-10-26T20:46:56.819784",
   "environment_variables": {},
   "exception": null,
   "input_path": "__notebook__.ipynb",
   "output_path": "__notebook__.ipynb",
   "parameters": {},
   "start_time": "2021-10-26T20:31:26.882036",
   "version": "2.3.3"
  }
 },
 "nbformat": 4,
 "nbformat_minor": 5
}
