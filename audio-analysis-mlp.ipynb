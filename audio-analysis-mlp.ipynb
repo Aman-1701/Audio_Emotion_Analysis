{
 "cells": [
  {
   "cell_type": "code",
   "execution_count": 1,
   "id": "468c805f",
   "metadata": {
    "_cell_guid": "b1076dfc-b9ad-4769-8c92-a6c4dae69d19",
    "_uuid": "8f2839f25d086af736a60e9eeb907d3b93b6e0e5",
    "execution": {
     "iopub.execute_input": "2021-10-26T18:39:23.797426Z",
     "iopub.status.busy": "2021-10-26T18:39:23.795580Z",
     "iopub.status.idle": "2021-10-26T18:39:31.328832Z",
     "shell.execute_reply": "2021-10-26T18:39:31.328082Z",
     "shell.execute_reply.started": "2021-10-26T18:04:48.034826Z"
    },
    "papermill": {
     "duration": 7.561222,
     "end_time": "2021-10-26T18:39:31.329020",
     "exception": false,
     "start_time": "2021-10-26T18:39:23.767798",
     "status": "completed"
    },
    "tags": []
   },
   "outputs": [],
   "source": [
    "import pandas as pd\n",
    "import numpy as np\n",
    "\n",
    "import os\n",
    "import sys\n",
    "\n",
    "import librosa\n",
    "import librosa.display\n",
    "import seaborn as sns\n",
    "import matplotlib.pyplot as plt\n",
    "\n",
    "from sklearn.preprocessing import StandardScaler, OneHotEncoder\n",
    "from sklearn.metrics import confusion_matrix, classification_report\n",
    "from sklearn.model_selection import train_test_split\n",
    "import seaborn as sn\n",
    "\n",
    "\n",
    "import IPython.display as ipd\n",
    "from IPython.display import Audio\n",
    "\n",
    "import keras\n",
    "from keras.preprocessing import sequence\n",
    "from keras.models import Sequential\n",
    "from keras.layers import Dense, Embedding\n",
    "from keras.layers import LSTM,BatchNormalization\n",
    "from keras.preprocessing.text import Tokenizer\n",
    "from keras.preprocessing.sequence import pad_sequences\n",
    "from tensorflow.keras.utils import to_categorical\n",
    "from keras.layers import Input, Flatten, Dropout, Activation\n",
    "from keras.layers import Conv1D, MaxPooling1D, AveragePooling1D\n",
    "from keras.models import Model\n",
    "from keras.callbacks import ModelCheckpoint\n",
    "from sklearn.preprocessing import LabelEncoder\n",
    "\n",
    "import warnings\n",
    "if not sys.warnoptions:\n",
    "    warnings.simplefilter(\"ignore\")\n",
    "warnings.filterwarnings(\"ignore\", category=DeprecationWarning) "
   ]
  },
  {
   "cell_type": "code",
   "execution_count": 2,
   "id": "bedd97b5",
   "metadata": {
    "execution": {
     "iopub.execute_input": "2021-10-26T18:39:31.371452Z",
     "iopub.status.busy": "2021-10-26T18:39:31.370484Z",
     "iopub.status.idle": "2021-10-26T18:39:31.374013Z",
     "shell.execute_reply": "2021-10-26T18:39:31.374502Z",
     "shell.execute_reply.started": "2021-10-26T18:04:55.726831Z"
    },
    "papermill": {
     "duration": 0.026157,
     "end_time": "2021-10-26T18:39:31.374668",
     "exception": false,
     "start_time": "2021-10-26T18:39:31.348511",
     "status": "completed"
    },
    "tags": []
   },
   "outputs": [],
   "source": [
    "RAV = \"/kaggle/input/ravdess-emotional-speech-audio/audio_speech_actors_01-24/\"\n"
   ]
  },
  {
   "cell_type": "code",
   "execution_count": 3,
   "id": "5aabe42b",
   "metadata": {
    "execution": {
     "iopub.execute_input": "2021-10-26T18:39:31.415489Z",
     "iopub.status.busy": "2021-10-26T18:39:31.414487Z",
     "iopub.status.idle": "2021-10-26T18:39:31.847129Z",
     "shell.execute_reply": "2021-10-26T18:39:31.847662Z",
     "shell.execute_reply.started": "2021-10-26T18:04:55.731504Z"
    },
    "papermill": {
     "duration": 0.454771,
     "end_time": "2021-10-26T18:39:31.847871",
     "exception": false,
     "start_time": "2021-10-26T18:39:31.393100",
     "status": "completed"
    },
    "tags": []
   },
   "outputs": [
    {
     "data": {
      "text/plain": [
       "male_calm          96\n",
       "male_sad           96\n",
       "male_fear          96\n",
       "male_happy         96\n",
       "male_disgust       96\n",
       "male_angry         96\n",
       "male_surprise      96\n",
       "female_surprise    96\n",
       "female_disgust     96\n",
       "female_fear        96\n",
       "female_sad         96\n",
       "female_calm        96\n",
       "female_happy       96\n",
       "female_angry       96\n",
       "male_neutral       48\n",
       "female_neutral     48\n",
       "Name: labels, dtype: int64"
      ]
     },
     "execution_count": 3,
     "metadata": {},
     "output_type": "execute_result"
    }
   ],
   "source": [
    "dir_list = os.listdir(RAV)\n",
    "dir_list.sort()\n",
    "\n",
    "emotion = []\n",
    "gender = []\n",
    "path = []\n",
    "for i in dir_list:\n",
    "    fname = os.listdir(RAV + i)\n",
    "    for f in fname:\n",
    "        part = f.split('.')[0].split('-')\n",
    "        emotion.append(int(part[2]))\n",
    "        temp = int(part[6])\n",
    "        if temp%2 == 0:\n",
    "            temp = \"female\"\n",
    "        else:\n",
    "            temp = \"male\"\n",
    "        gender.append(temp)\n",
    "        path.append(RAV + i + '/' + f)\n",
    "\n",
    "        \n",
    "RAV_df = pd.DataFrame(emotion)\n",
    "RAV_df = RAV_df.replace({1:'neutral', 2:'calm', 3:'happy', 4:'sad', 5:'angry', 6:'fear', 7:'disgust', 8:'surprise'})\n",
    "RAV_df = pd.concat([pd.DataFrame(gender),RAV_df],axis=1)\n",
    "RAV_df.columns = ['gender','emotion']\n",
    "RAV_df['labels'] =RAV_df.gender + '_' + RAV_df.emotion\n",
    "RAV_df['source'] = 'RAVDESS'  \n",
    "RAV_df = pd.concat([RAV_df,pd.DataFrame(path, columns = ['path'])],axis=1)\n",
    "RAV_df = RAV_df.drop(['gender', 'emotion'], axis=1)\n",
    "RAV_df.labels.value_counts()"
   ]
  },
  {
   "cell_type": "code",
   "execution_count": 4,
   "id": "424214c5",
   "metadata": {
    "execution": {
     "iopub.execute_input": "2021-10-26T18:39:31.896782Z",
     "iopub.status.busy": "2021-10-26T18:39:31.896069Z",
     "iopub.status.idle": "2021-10-26T18:39:32.226317Z",
     "shell.execute_reply": "2021-10-26T18:39:32.226892Z",
     "shell.execute_reply.started": "2021-10-26T18:05:00.324221Z"
    },
    "papermill": {
     "duration": 0.357029,
     "end_time": "2021-10-26T18:39:32.227067",
     "exception": false,
     "start_time": "2021-10-26T18:39:31.870038",
     "status": "completed"
    },
    "tags": []
   },
   "outputs": [
    {
     "data": {
      "image/png": "[encoded data removed]",
      "text/plain": [
       "<Figure size 864x360 with 1 Axes>"
      ]
     },
     "metadata": {
      "needs_background": "light"
     },
     "output_type": "display_data"
    }
   ],
   "source": [
    "plt.figure(figsize=(12, 5))\n",
    "plt.title('Count of Emotions', size=16)\n",
    "sns.countplot(RAV_df.labels)\n",
    "plt.ylabel('Count', size=12)\n",
    "plt.xlabel('Emotions', size=12)\n",
    "plt.xticks(rotation=45)\n",
    "sns.despine(top=True, right=True, left=False, bottom=False)\n",
    "plt.show()"
   ]
  },
  {
   "cell_type": "code",
   "execution_count": 5,
   "id": "15f14b6b",
   "metadata": {
    "execution": {
     "iopub.execute_input": "2021-10-26T18:39:32.271333Z",
     "iopub.status.busy": "2021-10-26T18:39:32.270677Z",
     "iopub.status.idle": "2021-10-26T18:39:32.277122Z",
     "shell.execute_reply": "2021-10-26T18:39:32.277731Z",
     "shell.execute_reply.started": "2021-10-26T18:05:04.164038Z"
    },
    "papermill": {
     "duration": 0.030196,
     "end_time": "2021-10-26T18:39:32.277894",
     "exception": false,
     "start_time": "2021-10-26T18:39:32.247698",
     "status": "completed"
    },
    "tags": []
   },
   "outputs": [],
   "source": [
    "def noise(data):\n",
    "    noise_amp = 0.035*np.random.uniform()*np.amax(data)\n",
    "    data = data + noise_amp*np.random.normal(size=data.shape[0])\n",
    "    return data\n",
    "# STRETCH\n",
    "def stretch(data, rate=0.8):\n",
    "    return librosa.effects.time_stretch(data, rate)\n",
    "# SHIFT\n",
    "def shift(data):\n",
    "    shift_range = int(np.random.uniform(low=-5, high = 5)*1000)\n",
    "    return np.roll(data, shift_range)\n",
    "# PITCH\n",
    "def pitch(data, sampling_rate, pitch_factor=0.7):\n",
    "    return librosa.effects.pitch_shift(data, sampling_rate, pitch_factor)"
   ]
  },
  {
   "cell_type": "code",
   "execution_count": 6,
   "id": "779d0f4f",
   "metadata": {
    "execution": {
     "iopub.execute_input": "2021-10-26T18:39:32.321248Z",
     "iopub.status.busy": "2021-10-26T18:39:32.320596Z",
     "iopub.status.idle": "2021-10-26T18:39:32.327257Z",
     "shell.execute_reply": "2021-10-26T18:39:32.327826Z",
     "shell.execute_reply.started": "2021-10-26T18:05:08.854022Z"
    },
    "papermill": {
     "duration": 0.029977,
     "end_time": "2021-10-26T18:39:32.328003",
     "exception": false,
     "start_time": "2021-10-26T18:39:32.298026",
     "status": "completed"
    },
    "tags": []
   },
   "outputs": [],
   "source": [
    "def feat_ext(data):\n",
    "    mfcc = np.mean(librosa.feature.mfcc(y=data, sr=sample_rate).T, axis=0)\n",
    "    return mfcc\n",
    "\n",
    "def get_feat(path):\n",
    "    data, sample_rate = librosa.load(path, duration=2.5, offset=0.6)\n",
    "    # normal data\n",
    "    res1 = feat_ext(data)\n",
    "    result = np.array(res1)\n",
    "    #data with noise\n",
    "    noise_data = noise(data)\n",
    "    res2 = feat_ext(noise_data)\n",
    "    result = np.vstack((result, res2))\n",
    "    #data with stretch and pitch\n",
    "    new_data = stretch(data)\n",
    "    data_stretch_pitch = pitch(new_data, sample_rate)\n",
    "    res3 = feat_ext(data_stretch_pitch)\n",
    "    result = np.vstack((result, res3))\n",
    "    return result"
   ]
  },
  {
   "cell_type": "code",
   "execution_count": 7,
   "id": "d926afc1",
   "metadata": {
    "execution": {
     "iopub.execute_input": "2021-10-26T18:39:32.371868Z",
     "iopub.status.busy": "2021-10-26T18:39:32.371000Z",
     "iopub.status.idle": "2021-10-26T18:39:32.383177Z",
     "shell.execute_reply": "2021-10-26T18:39:32.383785Z",
     "shell.execute_reply.started": "2021-10-26T18:05:12.854400Z"
    },
    "papermill": {
     "duration": 0.035563,
     "end_time": "2021-10-26T18:39:32.383972",
     "exception": false,
     "start_time": "2021-10-26T18:39:32.348409",
     "status": "completed"
    },
    "tags": []
   },
   "outputs": [
    {
     "data": {
      "text/html": [
       "<div>\n",
       "<style scoped>\n",
       "    .dataframe tbody tr th:only-of-type {\n",
       "        vertical-align: middle;\n",
       "    }\n",
       "\n",
       "    .dataframe tbody tr th {\n",
       "        vertical-align: top;\n",
       "    }\n",
       "\n",
       "    .dataframe thead th {\n",
       "        text-align: right;\n",
       "    }\n",
       "</style>\n",
       "<table border=\"1\" class=\"dataframe\">\n",
       "  <thead>\n",
       "    <tr style=\"text-align: right;\">\n",
       "      <th></th>\n",
       "      <th>labels</th>\n",
       "      <th>source</th>\n",
       "      <th>path</th>\n",
       "    </tr>\n",
       "  </thead>\n",
       "  <tbody>\n",
       "    <tr>\n",
       "      <th>0</th>\n",
       "      <td>male_calm</td>\n",
       "      <td>RAVDESS</td>\n",
       "      <td>/kaggle/input/ravdess-emotional-speech-audio/a...</td>\n",
       "    </tr>\n",
       "    <tr>\n",
       "      <th>1</th>\n",
       "      <td>male_neutral</td>\n",
       "      <td>RAVDESS</td>\n",
       "      <td>/kaggle/input/ravdess-emotional-speech-audio/a...</td>\n",
       "    </tr>\n",
       "    <tr>\n",
       "      <th>2</th>\n",
       "      <td>male_sad</td>\n",
       "      <td>RAVDESS</td>\n",
       "      <td>/kaggle/input/ravdess-emotional-speech-audio/a...</td>\n",
       "    </tr>\n",
       "    <tr>\n",
       "      <th>3</th>\n",
       "      <td>male_calm</td>\n",
       "      <td>RAVDESS</td>\n",
       "      <td>/kaggle/input/ravdess-emotional-speech-audio/a...</td>\n",
       "    </tr>\n",
       "    <tr>\n",
       "      <th>4</th>\n",
       "      <td>male_calm</td>\n",
       "      <td>RAVDESS</td>\n",
       "      <td>/kaggle/input/ravdess-emotional-speech-audio/a...</td>\n",
       "    </tr>\n",
       "  </tbody>\n",
       "</table>\n",
       "</div>"
      ],
      "text/plain": [
       "         labels   source                                               path\n",
       "0     male_calm  RAVDESS  /kaggle/input/ravdess-emotional-speech-audio/a...\n",
       "1  male_neutral  RAVDESS  /kaggle/input/ravdess-emotional-speech-audio/a...\n",
       "2      male_sad  RAVDESS  /kaggle/input/ravdess-emotional-speech-audio/a...\n",
       "3     male_calm  RAVDESS  /kaggle/input/ravdess-emotional-speech-audio/a...\n",
       "4     male_calm  RAVDESS  /kaggle/input/ravdess-emotional-speech-audio/a..."
      ]
     },
     "execution_count": 7,
     "metadata": {},
     "output_type": "execute_result"
    }
   ],
   "source": [
    "RAV_df.head()\n"
   ]
  },
  {
   "cell_type": "code",
   "execution_count": 8,
   "id": "c5a103be",
   "metadata": {
    "execution": {
     "iopub.execute_input": "2021-10-26T18:39:32.428088Z",
     "iopub.status.busy": "2021-10-26T18:39:32.427485Z",
     "iopub.status.idle": "2021-10-26T18:39:33.452746Z",
     "shell.execute_reply": "2021-10-26T18:39:33.453370Z",
     "shell.execute_reply.started": "2021-10-26T18:05:16.399047Z"
    },
    "papermill": {
     "duration": 1.048972,
     "end_time": "2021-10-26T18:39:33.453584",
     "exception": false,
     "start_time": "2021-10-26T18:39:32.404612",
     "status": "completed"
    },
    "tags": []
   },
   "outputs": [],
   "source": [
    "path = np.array(RAV_df['path'])[0]\n",
    "data, sample_rate = librosa.load(path)"
   ]
  },
  {
   "cell_type": "code",
   "execution_count": 9,
   "id": "33b48f98",
   "metadata": {
    "execution": {
     "iopub.execute_input": "2021-10-26T18:39:33.498745Z",
     "iopub.status.busy": "2021-10-26T18:39:33.498082Z",
     "iopub.status.idle": "2021-10-26T18:49:33.625141Z",
     "shell.execute_reply": "2021-10-26T18:49:33.626186Z",
     "shell.execute_reply.started": "2021-10-26T18:05:21.199087Z"
    },
    "papermill": {
     "duration": 600.151366,
     "end_time": "2021-10-26T18:49:33.626538",
     "exception": false,
     "start_time": "2021-10-26T18:39:33.475172",
     "status": "completed"
    },
    "tags": []
   },
   "outputs": [],
   "source": [
    "X, Y = [], []\n",
    "FLAG = 0\n",
    "for path, emotion in zip(RAV_df['path'], RAV_df['labels']):\n",
    "    feature = get_feat(path)\n",
    "    for element in feature:\n",
    "        X.append(element)\n",
    "        Y.append(emotion)\n",
    "   \n",
    "        "
   ]
  },
  {
   "cell_type": "code",
   "execution_count": 10,
   "id": "f55324b6",
   "metadata": {
    "execution": {
     "iopub.execute_input": "2021-10-26T18:49:33.717149Z",
     "iopub.status.busy": "2021-10-26T18:49:33.715942Z",
     "iopub.status.idle": "2021-10-26T18:49:34.012309Z",
     "shell.execute_reply": "2021-10-26T18:49:34.012843Z",
     "shell.execute_reply.started": "2021-10-26T18:15:00.408619Z"
    },
    "papermill": {
     "duration": 0.345768,
     "end_time": "2021-10-26T18:49:34.013042",
     "exception": false,
     "start_time": "2021-10-26T18:49:33.667274",
     "status": "completed"
    },
    "tags": []
   },
   "outputs": [
    {
     "data": {
      "text/html": [
       "<div>\n",
       "<style scoped>\n",
       "    .dataframe tbody tr th:only-of-type {\n",
       "        vertical-align: middle;\n",
       "    }\n",
       "\n",
       "    .dataframe tbody tr th {\n",
       "        vertical-align: top;\n",
       "    }\n",
       "\n",
       "    .dataframe thead th {\n",
       "        text-align: right;\n",
       "    }\n",
       "</style>\n",
       "<table border=\"1\" class=\"dataframe\">\n",
       "  <thead>\n",
       "    <tr style=\"text-align: right;\">\n",
       "      <th></th>\n",
       "      <th>0</th>\n",
       "      <th>1</th>\n",
       "      <th>2</th>\n",
       "      <th>3</th>\n",
       "      <th>4</th>\n",
       "      <th>5</th>\n",
       "      <th>6</th>\n",
       "      <th>7</th>\n",
       "      <th>8</th>\n",
       "      <th>9</th>\n",
       "      <th>...</th>\n",
       "      <th>11</th>\n",
       "      <th>12</th>\n",
       "      <th>13</th>\n",
       "      <th>14</th>\n",
       "      <th>15</th>\n",
       "      <th>16</th>\n",
       "      <th>17</th>\n",
       "      <th>18</th>\n",
       "      <th>19</th>\n",
       "      <th>labels</th>\n",
       "    </tr>\n",
       "  </thead>\n",
       "  <tbody>\n",
       "    <tr>\n",
       "      <th>0</th>\n",
       "      <td>-626.262817</td>\n",
       "      <td>93.897247</td>\n",
       "      <td>-0.691273</td>\n",
       "      <td>17.833761</td>\n",
       "      <td>9.502006</td>\n",
       "      <td>2.030928</td>\n",
       "      <td>-2.721136</td>\n",
       "      <td>-8.514406</td>\n",
       "      <td>-12.427499</td>\n",
       "      <td>-6.575863</td>\n",
       "      <td>...</td>\n",
       "      <td>-2.750585</td>\n",
       "      <td>0.777975</td>\n",
       "      <td>-5.365466</td>\n",
       "      <td>-0.337154</td>\n",
       "      <td>1.482861</td>\n",
       "      <td>-8.703282</td>\n",
       "      <td>-2.764846</td>\n",
       "      <td>-1.618086</td>\n",
       "      <td>-1.523441</td>\n",
       "      <td>male_calm</td>\n",
       "    </tr>\n",
       "    <tr>\n",
       "      <th>1</th>\n",
       "      <td>-427.536797</td>\n",
       "      <td>33.951353</td>\n",
       "      <td>12.226064</td>\n",
       "      <td>8.786146</td>\n",
       "      <td>4.545294</td>\n",
       "      <td>2.421388</td>\n",
       "      <td>-2.106778</td>\n",
       "      <td>-7.121919</td>\n",
       "      <td>-8.071371</td>\n",
       "      <td>-5.442148</td>\n",
       "      <td>...</td>\n",
       "      <td>-1.034160</td>\n",
       "      <td>-1.255287</td>\n",
       "      <td>-1.979773</td>\n",
       "      <td>-0.508363</td>\n",
       "      <td>-0.873178</td>\n",
       "      <td>-5.295191</td>\n",
       "      <td>-3.899305</td>\n",
       "      <td>-0.326768</td>\n",
       "      <td>-2.815834</td>\n",
       "      <td>male_calm</td>\n",
       "    </tr>\n",
       "    <tr>\n",
       "      <th>2</th>\n",
       "      <td>-683.959106</td>\n",
       "      <td>90.017647</td>\n",
       "      <td>-4.683508</td>\n",
       "      <td>17.088537</td>\n",
       "      <td>6.352373</td>\n",
       "      <td>0.125587</td>\n",
       "      <td>-6.658744</td>\n",
       "      <td>-12.177227</td>\n",
       "      <td>-15.775248</td>\n",
       "      <td>-5.823675</td>\n",
       "      <td>...</td>\n",
       "      <td>-2.188844</td>\n",
       "      <td>-1.985480</td>\n",
       "      <td>-7.312302</td>\n",
       "      <td>-0.379691</td>\n",
       "      <td>-2.598665</td>\n",
       "      <td>-9.273556</td>\n",
       "      <td>-2.698469</td>\n",
       "      <td>-1.999992</td>\n",
       "      <td>-5.755872</td>\n",
       "      <td>male_calm</td>\n",
       "    </tr>\n",
       "    <tr>\n",
       "      <th>3</th>\n",
       "      <td>-634.959839</td>\n",
       "      <td>72.811478</td>\n",
       "      <td>-3.487027</td>\n",
       "      <td>20.697269</td>\n",
       "      <td>10.188320</td>\n",
       "      <td>-0.667841</td>\n",
       "      <td>-3.293634</td>\n",
       "      <td>-7.447817</td>\n",
       "      <td>-16.703850</td>\n",
       "      <td>-2.161060</td>\n",
       "      <td>...</td>\n",
       "      <td>-3.714514</td>\n",
       "      <td>0.273591</td>\n",
       "      <td>-4.517451</td>\n",
       "      <td>-1.117245</td>\n",
       "      <td>0.534381</td>\n",
       "      <td>-6.885533</td>\n",
       "      <td>-1.295200</td>\n",
       "      <td>-3.289555</td>\n",
       "      <td>0.756878</td>\n",
       "      <td>male_neutral</td>\n",
       "    </tr>\n",
       "    <tr>\n",
       "      <th>4</th>\n",
       "      <td>-552.325602</td>\n",
       "      <td>52.510463</td>\n",
       "      <td>1.215276</td>\n",
       "      <td>15.755689</td>\n",
       "      <td>7.753915</td>\n",
       "      <td>-1.886901</td>\n",
       "      <td>-4.145362</td>\n",
       "      <td>-9.594954</td>\n",
       "      <td>-14.343246</td>\n",
       "      <td>-4.730596</td>\n",
       "      <td>...</td>\n",
       "      <td>-3.275831</td>\n",
       "      <td>-1.475338</td>\n",
       "      <td>-3.993179</td>\n",
       "      <td>-2.112940</td>\n",
       "      <td>-0.207716</td>\n",
       "      <td>-5.916527</td>\n",
       "      <td>-3.259563</td>\n",
       "      <td>-1.810418</td>\n",
       "      <td>-1.497962</td>\n",
       "      <td>male_neutral</td>\n",
       "    </tr>\n",
       "  </tbody>\n",
       "</table>\n",
       "<p>5 rows × 21 columns</p>\n",
       "</div>"
      ],
      "text/plain": [
       "            0          1          2          3          4         5         6  \\\n",
       "0 -626.262817  93.897247  -0.691273  17.833761   9.502006  2.030928 -2.721136   \n",
       "1 -427.536797  33.951353  12.226064   8.786146   4.545294  2.421388 -2.106778   \n",
       "2 -683.959106  90.017647  -4.683508  17.088537   6.352373  0.125587 -6.658744   \n",
       "3 -634.959839  72.811478  -3.487027  20.697269  10.188320 -0.667841 -3.293634   \n",
       "4 -552.325602  52.510463   1.215276  15.755689   7.753915 -1.886901 -4.145362   \n",
       "\n",
       "           7          8         9  ...        11        12        13  \\\n",
       "0  -8.514406 -12.427499 -6.575863  ... -2.750585  0.777975 -5.365466   \n",
       "1  -7.121919  -8.071371 -5.442148  ... -1.034160 -1.255287 -1.979773   \n",
       "2 -12.177227 -15.775248 -5.823675  ... -2.188844 -1.985480 -7.312302   \n",
       "3  -7.447817 -16.703850 -2.161060  ... -3.714514  0.273591 -4.517451   \n",
       "4  -9.594954 -14.343246 -4.730596  ... -3.275831 -1.475338 -3.993179   \n",
       "\n",
       "         14        15        16        17        18        19        labels  \n",
       "0 -0.337154  1.482861 -8.703282 -2.764846 -1.618086 -1.523441     male_calm  \n",
       "1 -0.508363 -0.873178 -5.295191 -3.899305 -0.326768 -2.815834     male_calm  \n",
       "2 -0.379691 -2.598665 -9.273556 -2.698469 -1.999992 -5.755872     male_calm  \n",
       "3 -1.117245  0.534381 -6.885533 -1.295200 -3.289555  0.756878  male_neutral  \n",
       "4 -2.112940 -0.207716 -5.916527 -3.259563 -1.810418 -1.497962  male_neutral  \n",
       "\n",
       "[5 rows x 21 columns]"
      ]
     },
     "execution_count": 10,
     "metadata": {},
     "output_type": "execute_result"
    }
   ],
   "source": [
    "Features = pd.DataFrame(X)\n",
    "Features['labels'] = Y\n",
    "Features.to_csv('features.csv', index=False)\n",
    "Features.head()"
   ]
  },
  {
   "cell_type": "code",
   "execution_count": 11,
   "id": "5bd398d8",
   "metadata": {
    "execution": {
     "iopub.execute_input": "2021-10-26T18:49:34.068272Z",
     "iopub.status.busy": "2021-10-26T18:49:34.067161Z",
     "iopub.status.idle": "2021-10-26T18:49:34.069218Z",
     "shell.execute_reply": "2021-10-26T18:49:34.069839Z",
     "shell.execute_reply.started": "2021-10-26T18:16:11.614385Z"
    },
    "papermill": {
     "duration": 0.035655,
     "end_time": "2021-10-26T18:49:34.070011",
     "exception": false,
     "start_time": "2021-10-26T18:49:34.034356",
     "status": "completed"
    },
    "tags": []
   },
   "outputs": [],
   "source": [
    "X = Features.iloc[: ,:-1].values\n",
    "Y = Features['labels'].values"
   ]
  },
  {
   "cell_type": "code",
   "execution_count": 12,
   "id": "9e56061c",
   "metadata": {
    "execution": {
     "iopub.execute_input": "2021-10-26T18:49:34.117182Z",
     "iopub.status.busy": "2021-10-26T18:49:34.116162Z",
     "iopub.status.idle": "2021-10-26T18:49:34.125197Z",
     "shell.execute_reply": "2021-10-26T18:49:34.124605Z",
     "shell.execute_reply.started": "2021-10-26T18:16:14.965101Z"
    },
    "papermill": {
     "duration": 0.034056,
     "end_time": "2021-10-26T18:49:34.125351",
     "exception": false,
     "start_time": "2021-10-26T18:49:34.091295",
     "status": "completed"
    },
    "tags": []
   },
   "outputs": [],
   "source": [
    "encoder = OneHotEncoder()\n",
    "Y = encoder.fit_transform(np.array(Y).reshape(-1,1)).toarray()"
   ]
  },
  {
   "cell_type": "code",
   "execution_count": 13,
   "id": "b9d81d68",
   "metadata": {
    "execution": {
     "iopub.execute_input": "2021-10-26T18:49:34.174619Z",
     "iopub.status.busy": "2021-10-26T18:49:34.173613Z",
     "iopub.status.idle": "2021-10-26T18:49:34.177864Z",
     "shell.execute_reply": "2021-10-26T18:49:34.177288Z",
     "shell.execute_reply.started": "2021-10-26T18:16:18.539602Z"
    },
    "papermill": {
     "duration": 0.031386,
     "end_time": "2021-10-26T18:49:34.178006",
     "exception": false,
     "start_time": "2021-10-26T18:49:34.146620",
     "status": "completed"
    },
    "tags": []
   },
   "outputs": [
    {
     "data": {
      "text/plain": [
       "(4320, 16)"
      ]
     },
     "execution_count": 13,
     "metadata": {},
     "output_type": "execute_result"
    }
   ],
   "source": [
    "Y.shape"
   ]
  },
  {
   "cell_type": "code",
   "execution_count": 14,
   "id": "aaaa7ba6",
   "metadata": {
    "execution": {
     "iopub.execute_input": "2021-10-26T18:49:34.225364Z",
     "iopub.status.busy": "2021-10-26T18:49:34.224344Z",
     "iopub.status.idle": "2021-10-26T18:49:34.232591Z",
     "shell.execute_reply": "2021-10-26T18:49:34.233097Z",
     "shell.execute_reply.started": "2021-10-26T18:16:21.054833Z"
    },
    "papermill": {
     "duration": 0.033666,
     "end_time": "2021-10-26T18:49:34.233283",
     "exception": false,
     "start_time": "2021-10-26T18:49:34.199617",
     "status": "completed"
    },
    "tags": []
   },
   "outputs": [
    {
     "data": {
      "text/plain": [
       "((3240, 20), (3240, 16), (1080, 20), (1080, 16))"
      ]
     },
     "execution_count": 14,
     "metadata": {},
     "output_type": "execute_result"
    }
   ],
   "source": [
    "x_train, x_test, y_train, y_test = train_test_split(X, Y, random_state=0, shuffle=True)\n",
    "x_train.shape, y_train.shape, x_test.shape, y_test.shape"
   ]
  },
  {
   "cell_type": "code",
   "execution_count": 15,
   "id": "399e1377",
   "metadata": {
    "execution": {
     "iopub.execute_input": "2021-10-26T18:49:34.283887Z",
     "iopub.status.busy": "2021-10-26T18:49:34.282662Z",
     "iopub.status.idle": "2021-10-26T18:49:34.290424Z",
     "shell.execute_reply": "2021-10-26T18:49:34.291028Z",
     "shell.execute_reply.started": "2021-10-26T18:16:26.595338Z"
    },
    "papermill": {
     "duration": 0.035595,
     "end_time": "2021-10-26T18:49:34.291202",
     "exception": false,
     "start_time": "2021-10-26T18:49:34.255607",
     "status": "completed"
    },
    "tags": []
   },
   "outputs": [
    {
     "data": {
      "text/plain": [
       "((3240, 20), (3240, 16), (1080, 20), (1080, 16))"
      ]
     },
     "execution_count": 15,
     "metadata": {},
     "output_type": "execute_result"
    }
   ],
   "source": [
    "scaler = StandardScaler()\n",
    "x_train = scaler.fit_transform(x_train)\n",
    "x_test = scaler.transform(x_test)\n",
    "x_train.shape, y_train.shape, x_test.shape, y_test.shape"
   ]
  },
  {
   "cell_type": "code",
   "execution_count": 16,
   "id": "9b64f501",
   "metadata": {
    "execution": {
     "iopub.execute_input": "2021-10-26T18:49:34.340047Z",
     "iopub.status.busy": "2021-10-26T18:49:34.339047Z",
     "iopub.status.idle": "2021-10-26T18:59:43.731195Z",
     "shell.execute_reply": "2021-10-26T18:59:43.732191Z",
     "shell.execute_reply.started": "2021-10-26T18:27:07.535065Z"
    },
    "papermill": {
     "duration": 609.418525,
     "end_time": "2021-10-26T18:59:43.732551",
     "exception": false,
     "start_time": "2021-10-26T18:49:34.314026",
     "status": "completed"
    },
    "tags": []
   },
   "outputs": [
    {
     "name": "stdout",
     "output_type": "stream",
     "text": [
      "Training set score: 0.527\n",
      "Test set score: 0.464\n",
      "---------------------------------------------------------\n",
      "Training set score: 0.684\n",
      "Test set score: 0.531\n",
      "---------------------------------------------------------\n",
      "Training set score: 0.804\n",
      "Test set score: 0.594\n",
      "---------------------------------------------------------\n",
      "Training set score: 0.847\n",
      "Test set score: 0.604\n",
      "---------------------------------------------------------\n",
      "Training set score: 0.882\n",
      "Test set score: 0.607\n",
      "---------------------------------------------------------\n",
      "Training set score: 0.913\n",
      "Test set score: 0.641\n",
      "---------------------------------------------------------\n",
      "Training set score: 0.933\n",
      "Test set score: 0.637\n",
      "---------------------------------------------------------\n",
      "Training set score: 0.945\n",
      "Test set score: 0.649\n",
      "---------------------------------------------------------\n",
      "Training set score: 0.959\n",
      "Test set score: 0.634\n",
      "---------------------------------------------------------\n",
      "Training set score: 0.964\n",
      "Test set score: 0.677\n",
      "---------------------------------------------------------\n",
      "Training set score: 0.973\n",
      "Test set score: 0.666\n",
      "---------------------------------------------------------\n",
      "Training set score: 0.978\n",
      "Test set score: 0.691\n",
      "---------------------------------------------------------\n",
      "Training set score: 0.981\n",
      "Test set score: 0.662\n",
      "---------------------------------------------------------\n",
      "Training set score: 0.987\n",
      "Test set score: 0.677\n",
      "---------------------------------------------------------\n",
      "Training set score: 0.988\n",
      "Test set score: 0.681\n",
      "---------------------------------------------------------\n"
     ]
    }
   ],
   "source": [
    "hiddenNode = []\n",
    "trainAcc = []\n",
    "testAcc = []\n",
    "for hidden in range(50,800,50):\n",
    "    from sklearn.neural_network import MLPClassifier\n",
    "    classifier = MLPClassifier(alpha=0.01, batch_size=256, epsilon=1e-08, hidden_layer_sizes=(hidden,), learning_rate='adaptive', max_iter=400)\n",
    "    classifier.fit(x_train,y_train)\n",
    "    print(\"Training set score: {:.3f}\".format(classifier.score(x_train, y_train)))\n",
    "    print(\"Test set score: {:.3f}\".format(classifier.score(x_test, y_test)))\n",
    "    print('---------------------------------------------------------')\n",
    "    hiddenNode.append(hidden)\n",
    "    trainAcc.append(classifier.score(x_train, y_train))\n",
    "    testAcc.append(classifier.score(x_test, y_test))"
   ]
  },
  {
   "cell_type": "code",
   "execution_count": 17,
   "id": "c78c142d",
   "metadata": {
    "execution": {
     "iopub.execute_input": "2021-10-26T18:59:43.846059Z",
     "iopub.status.busy": "2021-10-26T18:59:43.842728Z",
     "iopub.status.idle": "2021-10-26T18:59:44.041447Z",
     "shell.execute_reply": "2021-10-26T18:59:44.041921Z",
     "shell.execute_reply.started": "2021-10-26T18:36:17.205344Z"
    },
    "papermill": {
     "duration": 0.260463,
     "end_time": "2021-10-26T18:59:44.042103",
     "exception": false,
     "start_time": "2021-10-26T18:59:43.781640",
     "status": "completed"
    },
    "tags": []
   },
   "outputs": [
    {
     "data": {
      "text/plain": [
       "Text(0, 0.5, 'Accuracy')"
      ]
     },
     "execution_count": 17,
     "metadata": {},
     "output_type": "execute_result"
    },
    {
     "data": {
      "image/png": "[encoded data removed]",
      "text/plain": [
       "<Figure size 432x288 with 1 Axes>"
      ]
     },
     "metadata": {
      "needs_background": "light"
     },
     "output_type": "display_data"
    }
   ],
   "source": [
    "plt.plot(hiddenNode,trainAcc,marker = 'd')\n",
    "plt.plot(hiddenNode,testAcc, 'red',marker = 'o')\n",
    "plt.xlabel('Hidden Nodes')\n",
    "plt.ylabel('Accuracy')"
   ]
  },
  {
   "cell_type": "code",
   "execution_count": 18,
   "id": "324feaf2",
   "metadata": {
    "execution": {
     "iopub.execute_input": "2021-10-26T18:59:44.109547Z",
     "iopub.status.busy": "2021-10-26T18:59:44.108859Z",
     "iopub.status.idle": "2021-10-26T19:00:24.233598Z",
     "shell.execute_reply": "2021-10-26T19:00:24.234523Z",
     "shell.execute_reply.started": "2021-10-26T18:37:23.655233Z"
    },
    "papermill": {
     "duration": 40.159852,
     "end_time": "2021-10-26T19:00:24.234806",
     "exception": false,
     "start_time": "2021-10-26T18:59:44.074954",
     "status": "completed"
    },
    "tags": []
   },
   "outputs": [
    {
     "data": {
      "text/plain": [
       "MLPClassifier(alpha=0.01, batch_size=256, hidden_layer_sizes=(400,),\n",
       "              learning_rate='adaptive', max_iter=400)"
      ]
     },
     "execution_count": 18,
     "metadata": {},
     "output_type": "execute_result"
    }
   ],
   "source": [
    "from sklearn.neural_network import MLPClassifier\n",
    "classifier = MLPClassifier(alpha=0.01, batch_size=256, epsilon=1e-08, hidden_layer_sizes=(400,), learning_rate='adaptive', max_iter=400)\n",
    "classifier.fit(x_train,y_train)"
   ]
  },
  {
   "cell_type": "code",
   "execution_count": 19,
   "id": "ac43a275",
   "metadata": {
    "execution": {
     "iopub.execute_input": "2021-10-26T19:00:24.323623Z",
     "iopub.status.busy": "2021-10-26T19:00:24.322505Z",
     "iopub.status.idle": "2021-10-26T19:00:24.336446Z",
     "shell.execute_reply": "2021-10-26T19:00:24.337326Z",
     "shell.execute_reply.started": "2021-10-26T18:38:03.514644Z"
    },
    "papermill": {
     "duration": 0.051507,
     "end_time": "2021-10-26T19:00:24.337640",
     "exception": false,
     "start_time": "2021-10-26T19:00:24.286133",
     "status": "completed"
    },
    "tags": []
   },
   "outputs": [],
   "source": [
    "pred_test = classifier.predict(x_test)\n",
    "y_pred = encoder.inverse_transform(pred_test)\n",
    "\n",
    "y_test = encoder.inverse_transform(y_test)"
   ]
  },
  {
   "cell_type": "code",
   "execution_count": 20,
   "id": "a6a76559",
   "metadata": {
    "execution": {
     "iopub.execute_input": "2021-10-26T19:00:24.454719Z",
     "iopub.status.busy": "2021-10-26T19:00:24.453696Z",
     "iopub.status.idle": "2021-10-26T19:00:24.462581Z",
     "shell.execute_reply": "2021-10-26T19:00:24.463053Z",
     "shell.execute_reply.started": "2021-10-26T18:38:09.704640Z"
    },
    "papermill": {
     "duration": 0.072108,
     "end_time": "2021-10-26T19:00:24.463214",
     "exception": false,
     "start_time": "2021-10-26T19:00:24.391106",
     "status": "completed"
    },
    "tags": []
   },
   "outputs": [
    {
     "data": {
      "text/html": [
       "<div>\n",
       "<style scoped>\n",
       "    .dataframe tbody tr th:only-of-type {\n",
       "        vertical-align: middle;\n",
       "    }\n",
       "\n",
       "    .dataframe tbody tr th {\n",
       "        vertical-align: top;\n",
       "    }\n",
       "\n",
       "    .dataframe thead th {\n",
       "        text-align: right;\n",
       "    }\n",
       "</style>\n",
       "<table border=\"1\" class=\"dataframe\">\n",
       "  <thead>\n",
       "    <tr style=\"text-align: right;\">\n",
       "      <th></th>\n",
       "      <th>Predicted Labels</th>\n",
       "      <th>Actual Labels</th>\n",
       "    </tr>\n",
       "  </thead>\n",
       "  <tbody>\n",
       "    <tr>\n",
       "      <th>0</th>\n",
       "      <td>female_sad</td>\n",
       "      <td>female_sad</td>\n",
       "    </tr>\n",
       "    <tr>\n",
       "      <th>1</th>\n",
       "      <td>female_angry</td>\n",
       "      <td>male_happy</td>\n",
       "    </tr>\n",
       "    <tr>\n",
       "      <th>2</th>\n",
       "      <td>female_angry</td>\n",
       "      <td>female_surprise</td>\n",
       "    </tr>\n",
       "    <tr>\n",
       "      <th>3</th>\n",
       "      <td>female_angry</td>\n",
       "      <td>female_angry</td>\n",
       "    </tr>\n",
       "    <tr>\n",
       "      <th>4</th>\n",
       "      <td>female_angry</td>\n",
       "      <td>female_fear</td>\n",
       "    </tr>\n",
       "    <tr>\n",
       "      <th>5</th>\n",
       "      <td>female_sad</td>\n",
       "      <td>female_sad</td>\n",
       "    </tr>\n",
       "    <tr>\n",
       "      <th>6</th>\n",
       "      <td>female_angry</td>\n",
       "      <td>male_disgust</td>\n",
       "    </tr>\n",
       "    <tr>\n",
       "      <th>7</th>\n",
       "      <td>male_sad</td>\n",
       "      <td>male_sad</td>\n",
       "    </tr>\n",
       "    <tr>\n",
       "      <th>8</th>\n",
       "      <td>female_surprise</td>\n",
       "      <td>female_surprise</td>\n",
       "    </tr>\n",
       "    <tr>\n",
       "      <th>9</th>\n",
       "      <td>male_neutral</td>\n",
       "      <td>male_calm</td>\n",
       "    </tr>\n",
       "  </tbody>\n",
       "</table>\n",
       "</div>"
      ],
      "text/plain": [
       "  Predicted Labels    Actual Labels\n",
       "0       female_sad       female_sad\n",
       "1     female_angry       male_happy\n",
       "2     female_angry  female_surprise\n",
       "3     female_angry     female_angry\n",
       "4     female_angry      female_fear\n",
       "5       female_sad       female_sad\n",
       "6     female_angry     male_disgust\n",
       "7         male_sad         male_sad\n",
       "8  female_surprise  female_surprise\n",
       "9     male_neutral        male_calm"
      ]
     },
     "execution_count": 20,
     "metadata": {},
     "output_type": "execute_result"
    }
   ],
   "source": [
    "df = pd.DataFrame(columns=['Predicted Labels', 'Actual Labels'])\n",
    "df['Predicted Labels'] = y_pred.flatten()\n",
    "df['Actual Labels'] = y_test.flatten()\n",
    "\n",
    "df.head(10)"
   ]
  },
  {
   "cell_type": "code",
   "execution_count": 21,
   "id": "e8aa40a4",
   "metadata": {
    "execution": {
     "iopub.execute_input": "2021-10-26T19:00:24.522955Z",
     "iopub.status.busy": "2021-10-26T19:00:24.522039Z",
     "iopub.status.idle": "2021-10-26T19:00:25.784088Z",
     "shell.execute_reply": "2021-10-26T19:00:25.784580Z",
     "shell.execute_reply.started": "2021-10-26T18:38:23.815752Z"
    },
    "papermill": {
     "duration": 1.293687,
     "end_time": "2021-10-26T19:00:25.784757",
     "exception": false,
     "start_time": "2021-10-26T19:00:24.491070",
     "status": "completed"
    },
    "tags": []
   },
   "outputs": [
    {
     "data": {
      "image/png": "[encoded data removed]",
      "text/plain": [
       "<Figure size 864x720 with 2 Axes>"
      ]
     },
     "metadata": {
      "needs_background": "light"
     },
     "output_type": "display_data"
    }
   ],
   "source": [
    "cm = confusion_matrix(y_test, y_pred)\n",
    "plt.figure(figsize = (12, 10))\n",
    "cm = pd.DataFrame(cm , index = [i for i in encoder.categories_] , columns = [i for i in encoder.categories_])\n",
    "sns.heatmap(cm, linecolor='white', cmap='Blues', linewidth=1, annot=True, fmt='')\n",
    "plt.title('Confusion Matrix', size=20)\n",
    "plt.xlabel('Predicted Labels', size=14)\n",
    "plt.ylabel('Actual Labels', size=14)\n",
    "plt.show()"
   ]
  },
  {
   "cell_type": "code",
   "execution_count": 22,
   "id": "77a4d08d",
   "metadata": {
    "execution": {
     "iopub.execute_input": "2021-10-26T19:00:25.847767Z",
     "iopub.status.busy": "2021-10-26T19:00:25.847150Z",
     "iopub.status.idle": "2021-10-26T19:00:25.899932Z",
     "shell.execute_reply": "2021-10-26T19:00:25.900451Z",
     "shell.execute_reply.started": "2021-10-26T18:38:32.490771Z"
    },
    "papermill": {
     "duration": 0.085481,
     "end_time": "2021-10-26T19:00:25.900626",
     "exception": false,
     "start_time": "2021-10-26T19:00:25.815145",
     "status": "completed"
    },
    "tags": []
   },
   "outputs": [
    {
     "name": "stdout",
     "output_type": "stream",
     "text": [
      "                 precision    recall  f1-score   support\n",
      "\n",
      "   female_angry       0.21      0.92      0.34        64\n",
      "    female_calm       0.94      0.77      0.85        83\n",
      " female_disgust       0.79      0.62      0.69        68\n",
      "    female_fear       0.88      0.77      0.82        90\n",
      "   female_happy       0.87      0.63      0.73        73\n",
      " female_neutral       0.90      0.79      0.84        33\n",
      "     female_sad       0.87      0.64      0.74        72\n",
      "female_surprise       0.96      0.68      0.80        66\n",
      "     male_angry       0.88      0.72      0.79        60\n",
      "      male_calm       0.81      0.74      0.77        69\n",
      "   male_disgust       0.86      0.70      0.77        77\n",
      "      male_fear       0.84      0.57      0.68        65\n",
      "     male_happy       0.82      0.67      0.74        73\n",
      "   male_neutral       0.69      0.58      0.63        38\n",
      "       male_sad       0.87      0.72      0.79        72\n",
      "  male_surprise       1.00      0.60      0.75        77\n",
      "\n",
      "       accuracy                           0.70      1080\n",
      "      macro avg       0.82      0.69      0.73      1080\n",
      "   weighted avg       0.83      0.70      0.74      1080\n",
      "\n"
     ]
    }
   ],
   "source": [
    "print(classification_report(y_test, y_pred))\n"
   ]
  }
 ],
 "metadata": {
  "kernelspec": {
   "display_name": "Python 3",
   "language": "python",
   "name": "python3"
  },
  "language_info": {
   "codemirror_mode": {
    "name": "ipython",
    "version": 3
   },
   "file_extension": ".py",
   "mimetype": "text/x-python",
   "name": "python",
   "nbconvert_exporter": "python",
   "pygments_lexer": "ipython3",
   "version": "3.7.10"
  },
  "papermill": {
   "default_parameters": {},
   "duration": 1274.109004,
   "end_time": "2021-10-26T19:00:29.002212",
   "environment_variables": {},
   "exception": null,
   "input_path": "__notebook__.ipynb",
   "output_path": "__notebook__.ipynb",
   "parameters": {},
   "start_time": "2021-10-26T18:39:14.893208",
   "version": "2.3.3"
  }
 },
 "nbformat": 4,
 "nbformat_minor": 5
}
