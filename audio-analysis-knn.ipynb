{
 "cells": [
  {
   "cell_type": "code",
   "execution_count": 1,
   "id": "c04329fa",
   "metadata": {
    "_cell_guid": "b1076dfc-b9ad-4769-8c92-a6c4dae69d19",
    "_uuid": "8f2839f25d086af736a60e9eeb907d3b93b6e0e5",
    "execution": {
     "iopub.execute_input": "2021-10-26T17:43:08.849247Z",
     "iopub.status.busy": "2021-10-26T17:43:08.843469Z",
     "iopub.status.idle": "2021-10-26T17:43:18.351682Z",
     "shell.execute_reply": "2021-10-26T17:43:18.352287Z",
     "shell.execute_reply.started": "2021-10-26T17:08:40.074665Z"
    },
    "papermill": {
     "duration": 9.546123,
     "end_time": "2021-10-26T17:43:18.352546",
     "exception": false,
     "start_time": "2021-10-26T17:43:08.806423",
     "status": "completed"
    },
    "tags": []
   },
   "outputs": [],
   "source": [
    "import pandas as pd\n",
    "import numpy as np\n",
    "\n",
    "import os\n",
    "import sys\n",
    "\n",
    "import librosa\n",
    "import librosa.display\n",
    "import seaborn as sns\n",
    "import matplotlib.pyplot as plt\n",
    "\n",
    "from sklearn.preprocessing import StandardScaler, OneHotEncoder\n",
    "from sklearn.metrics import confusion_matrix, classification_report\n",
    "from sklearn.model_selection import train_test_split\n",
    "import seaborn as sn\n",
    "\n",
    "\n",
    "import IPython.display as ipd\n",
    "from IPython.display import Audio\n",
    "\n",
    "import keras\n",
    "from keras.preprocessing import sequence\n",
    "from keras.models import Sequential\n",
    "from keras.layers import Dense, Embedding\n",
    "from keras.layers import LSTM,BatchNormalization\n",
    "from keras.preprocessing.text import Tokenizer\n",
    "from keras.preprocessing.sequence import pad_sequences\n",
    "from tensorflow.keras.utils import to_categorical\n",
    "from keras.layers import Input, Flatten, Dropout, Activation\n",
    "from keras.layers import Conv1D, MaxPooling1D, AveragePooling1D\n",
    "from keras.models import Model\n",
    "from keras.callbacks import ModelCheckpoint\n",
    "from sklearn.preprocessing import LabelEncoder\n",
    "\n",
    "import warnings\n",
    "if not sys.warnoptions:\n",
    "    warnings.simplefilter(\"ignore\")\n",
    "warnings.filterwarnings(\"ignore\", category=DeprecationWarning) "
   ]
  },
  {
   "cell_type": "code",
   "execution_count": 2,
   "id": "cea79755",
   "metadata": {
    "execution": {
     "iopub.execute_input": "2021-10-26T17:43:18.385818Z",
     "iopub.status.busy": "2021-10-26T17:43:18.385235Z",
     "iopub.status.idle": "2021-10-26T17:43:18.388989Z",
     "shell.execute_reply": "2021-10-26T17:43:18.389377Z",
     "shell.execute_reply.started": "2021-10-26T17:08:41.994073Z"
    },
    "papermill": {
     "duration": 0.02174,
     "end_time": "2021-10-26T17:43:18.389516",
     "exception": false,
     "start_time": "2021-10-26T17:43:18.367776",
     "status": "completed"
    },
    "tags": []
   },
   "outputs": [],
   "source": [
    "RAV = \"/kaggle/input/ravdess-emotional-speech-audio/audio_speech_actors_01-24/\"\n"
   ]
  },
  {
   "cell_type": "code",
   "execution_count": 3,
   "id": "f54a447b",
   "metadata": {
    "execution": {
     "iopub.execute_input": "2021-10-26T17:43:18.422069Z",
     "iopub.status.busy": "2021-10-26T17:43:18.421519Z",
     "iopub.status.idle": "2021-10-26T17:43:18.861966Z",
     "shell.execute_reply": "2021-10-26T17:43:18.862433Z",
     "shell.execute_reply.started": "2021-10-26T17:08:45.243522Z"
    },
    "papermill": {
     "duration": 0.458278,
     "end_time": "2021-10-26T17:43:18.862566",
     "exception": false,
     "start_time": "2021-10-26T17:43:18.404288",
     "status": "completed"
    },
    "tags": []
   },
   "outputs": [
    {
     "data": {
      "text/plain": [
       "male_calm          96\n",
       "male_sad           96\n",
       "male_fear          96\n",
       "male_happy         96\n",
       "male_disgust       96\n",
       "male_angry         96\n",
       "male_surprise      96\n",
       "female_surprise    96\n",
       "female_disgust     96\n",
       "female_fear        96\n",
       "female_sad         96\n",
       "female_calm        96\n",
       "female_happy       96\n",
       "female_angry       96\n",
       "male_neutral       48\n",
       "female_neutral     48\n",
       "Name: labels, dtype: int64"
      ]
     },
     "execution_count": 3,
     "metadata": {},
     "output_type": "execute_result"
    }
   ],
   "source": [
    "dir_list = os.listdir(RAV)\n",
    "dir_list.sort()\n",
    "\n",
    "emotion = []\n",
    "gender = []\n",
    "path = []\n",
    "for i in dir_list:\n",
    "    fname = os.listdir(RAV + i)\n",
    "    for f in fname:\n",
    "        part = f.split('.')[0].split('-')\n",
    "        emotion.append(int(part[2]))\n",
    "        temp = int(part[6])\n",
    "        if temp%2 == 0:\n",
    "            temp = \"female\"\n",
    "        else:\n",
    "            temp = \"male\"\n",
    "        gender.append(temp)\n",
    "        path.append(RAV + i + '/' + f)\n",
    "\n",
    "        \n",
    "RAV_df = pd.DataFrame(emotion)\n",
    "RAV_df = RAV_df.replace({1:'neutral', 2:'calm', 3:'happy', 4:'sad', 5:'angry', 6:'fear', 7:'disgust', 8:'surprise'})\n",
    "RAV_df = pd.concat([pd.DataFrame(gender),RAV_df],axis=1)\n",
    "RAV_df.columns = ['gender','emotion']\n",
    "RAV_df['labels'] =RAV_df.gender + '_' + RAV_df.emotion\n",
    "RAV_df['source'] = 'RAVDESS'  \n",
    "RAV_df = pd.concat([RAV_df,pd.DataFrame(path, columns = ['path'])],axis=1)\n",
    "RAV_df = RAV_df.drop(['gender', 'emotion'], axis=1)\n",
    "RAV_df.labels.value_counts()"
   ]
  },
  {
   "cell_type": "code",
   "execution_count": 4,
   "id": "5315ffb0",
   "metadata": {
    "execution": {
     "iopub.execute_input": "2021-10-26T17:43:18.919380Z",
     "iopub.status.busy": "2021-10-26T17:43:18.918685Z",
     "iopub.status.idle": "2021-10-26T17:43:19.206897Z",
     "shell.execute_reply": "2021-10-26T17:43:19.207409Z",
     "shell.execute_reply.started": "2021-10-26T17:08:49.868387Z"
    },
    "papermill": {
     "duration": 0.329543,
     "end_time": "2021-10-26T17:43:19.207586",
     "exception": false,
     "start_time": "2021-10-26T17:43:18.878043",
     "status": "completed"
    },
    "tags": []
   },
   "outputs": [
    {
     "data": {
      "image/png": "[encoded data removed]",
      "text/plain": [
       "<Figure size 864x360 with 1 Axes>"
      ]
     },
     "metadata": {
      "needs_background": "light"
     },
     "output_type": "display_data"
    }
   ],
   "source": [
    "plt.figure(figsize=(12, 5))\n",
    "plt.title('Count of Emotions', size=16)\n",
    "sns.countplot(RAV_df.labels)\n",
    "plt.ylabel('Count', size=12)\n",
    "plt.xlabel('Emotions', size=12)\n",
    "plt.xticks(rotation=45)\n",
    "sns.despine(top=True, right=True, left=False, bottom=False)\n",
    "plt.show()"
   ]
  },
  {
   "cell_type": "code",
   "execution_count": 5,
   "id": "03ae36d4",
   "metadata": {
    "execution": {
     "iopub.execute_input": "2021-10-26T17:43:19.259983Z",
     "iopub.status.busy": "2021-10-26T17:43:19.259115Z",
     "iopub.status.idle": "2021-10-26T17:43:19.266751Z",
     "shell.execute_reply": "2021-10-26T17:43:19.267238Z",
     "shell.execute_reply.started": "2021-10-26T17:08:53.418267Z"
    },
    "papermill": {
     "duration": 0.035307,
     "end_time": "2021-10-26T17:43:19.267415",
     "exception": false,
     "start_time": "2021-10-26T17:43:19.232108",
     "status": "completed"
    },
    "tags": []
   },
   "outputs": [],
   "source": [
    "def noise(data):\n",
    "    noise_amp = 0.035*np.random.uniform()*np.amax(data)\n",
    "    data = data + noise_amp*np.random.normal(size=data.shape[0])\n",
    "    return data\n",
    "# STRETCH\n",
    "def stretch(data, rate=0.8):\n",
    "    return librosa.effects.time_stretch(data, rate)\n",
    "# SHIFT\n",
    "def shift(data):\n",
    "    shift_range = int(np.random.uniform(low=-5, high = 5)*1000)\n",
    "    return np.roll(data, shift_range)\n",
    "# PITCH\n",
    "def pitch(data, sampling_rate, pitch_factor=0.7):\n",
    "    return librosa.effects.pitch_shift(data, sampling_rate, pitch_factor)"
   ]
  },
  {
   "cell_type": "code",
   "execution_count": 6,
   "id": "072cc438",
   "metadata": {
    "execution": {
     "iopub.execute_input": "2021-10-26T17:43:19.324425Z",
     "iopub.status.busy": "2021-10-26T17:43:19.323659Z",
     "iopub.status.idle": "2021-10-26T17:43:19.327172Z",
     "shell.execute_reply": "2021-10-26T17:43:19.326483Z",
     "shell.execute_reply.started": "2021-10-26T17:09:14.313101Z"
    },
    "papermill": {
     "duration": 0.036002,
     "end_time": "2021-10-26T17:43:19.327312",
     "exception": false,
     "start_time": "2021-10-26T17:43:19.291310",
     "status": "completed"
    },
    "tags": []
   },
   "outputs": [],
   "source": [
    "def feat_ext(data):\n",
    "    mfcc = np.mean(librosa.feature.mfcc(y=data, sr=sample_rate).T, axis=0)\n",
    "    return mfcc\n",
    "\n",
    "def get_feat(path):\n",
    "    data, sample_rate = librosa.load(path, duration=2.5, offset=0.6)\n",
    "    # normal data\n",
    "    res1 = feat_ext(data)\n",
    "    result = np.array(res1)\n",
    "    #data with noise\n",
    "    noise_data = noise(data)\n",
    "    res2 = feat_ext(noise_data)\n",
    "    result = np.vstack((result, res2))\n",
    "    #data with stretch and pitch\n",
    "    new_data = stretch(data)\n",
    "    data_stretch_pitch = pitch(new_data, sample_rate)\n",
    "    res3 = feat_ext(data_stretch_pitch)\n",
    "    result = np.vstack((result, res3))\n",
    "    return result"
   ]
  },
  {
   "cell_type": "code",
   "execution_count": 7,
   "id": "7378c35b",
   "metadata": {
    "execution": {
     "iopub.execute_input": "2021-10-26T17:43:19.382315Z",
     "iopub.status.busy": "2021-10-26T17:43:19.381540Z",
     "iopub.status.idle": "2021-10-26T17:43:19.393285Z",
     "shell.execute_reply": "2021-10-26T17:43:19.393848Z",
     "shell.execute_reply.started": "2021-10-26T17:09:09.659886Z"
    },
    "papermill": {
     "duration": 0.042503,
     "end_time": "2021-10-26T17:43:19.394017",
     "exception": false,
     "start_time": "2021-10-26T17:43:19.351514",
     "status": "completed"
    },
    "tags": []
   },
   "outputs": [
    {
     "data": {
      "text/html": [
       "<div>\n",
       "<style scoped>\n",
       "    .dataframe tbody tr th:only-of-type {\n",
       "        vertical-align: middle;\n",
       "    }\n",
       "\n",
       "    .dataframe tbody tr th {\n",
       "        vertical-align: top;\n",
       "    }\n",
       "\n",
       "    .dataframe thead th {\n",
       "        text-align: right;\n",
       "    }\n",
       "</style>\n",
       "<table border=\"1\" class=\"dataframe\">\n",
       "  <thead>\n",
       "    <tr style=\"text-align: right;\">\n",
       "      <th></th>\n",
       "      <th>labels</th>\n",
       "      <th>source</th>\n",
       "      <th>path</th>\n",
       "    </tr>\n",
       "  </thead>\n",
       "  <tbody>\n",
       "    <tr>\n",
       "      <th>0</th>\n",
       "      <td>male_calm</td>\n",
       "      <td>RAVDESS</td>\n",
       "      <td>/kaggle/input/ravdess-emotional-speech-audio/a...</td>\n",
       "    </tr>\n",
       "    <tr>\n",
       "      <th>1</th>\n",
       "      <td>male_neutral</td>\n",
       "      <td>RAVDESS</td>\n",
       "      <td>/kaggle/input/ravdess-emotional-speech-audio/a...</td>\n",
       "    </tr>\n",
       "    <tr>\n",
       "      <th>2</th>\n",
       "      <td>male_sad</td>\n",
       "      <td>RAVDESS</td>\n",
       "      <td>/kaggle/input/ravdess-emotional-speech-audio/a...</td>\n",
       "    </tr>\n",
       "    <tr>\n",
       "      <th>3</th>\n",
       "      <td>male_calm</td>\n",
       "      <td>RAVDESS</td>\n",
       "      <td>/kaggle/input/ravdess-emotional-speech-audio/a...</td>\n",
       "    </tr>\n",
       "    <tr>\n",
       "      <th>4</th>\n",
       "      <td>male_calm</td>\n",
       "      <td>RAVDESS</td>\n",
       "      <td>/kaggle/input/ravdess-emotional-speech-audio/a...</td>\n",
       "    </tr>\n",
       "  </tbody>\n",
       "</table>\n",
       "</div>"
      ],
      "text/plain": [
       "         labels   source                                               path\n",
       "0     male_calm  RAVDESS  /kaggle/input/ravdess-emotional-speech-audio/a...\n",
       "1  male_neutral  RAVDESS  /kaggle/input/ravdess-emotional-speech-audio/a...\n",
       "2      male_sad  RAVDESS  /kaggle/input/ravdess-emotional-speech-audio/a...\n",
       "3     male_calm  RAVDESS  /kaggle/input/ravdess-emotional-speech-audio/a...\n",
       "4     male_calm  RAVDESS  /kaggle/input/ravdess-emotional-speech-audio/a..."
      ]
     },
     "execution_count": 7,
     "metadata": {},
     "output_type": "execute_result"
    }
   ],
   "source": [
    "RAV_df.head()\n"
   ]
  },
  {
   "cell_type": "code",
   "execution_count": 8,
   "id": "8ad2fa86",
   "metadata": {
    "execution": {
     "iopub.execute_input": "2021-10-26T17:43:19.446368Z",
     "iopub.status.busy": "2021-10-26T17:43:19.445819Z",
     "iopub.status.idle": "2021-10-26T17:43:20.698987Z",
     "shell.execute_reply": "2021-10-26T17:43:20.699362Z",
     "shell.execute_reply.started": "2021-10-26T17:09:05.809505Z"
    },
    "papermill": {
     "duration": 1.280513,
     "end_time": "2021-10-26T17:43:20.699508",
     "exception": false,
     "start_time": "2021-10-26T17:43:19.418995",
     "status": "completed"
    },
    "tags": []
   },
   "outputs": [],
   "source": [
    "path = np.array(RAV_df['path'])[0]\n",
    "data, sample_rate = librosa.load(path)"
   ]
  },
  {
   "cell_type": "code",
   "execution_count": 9,
   "id": "58839801",
   "metadata": {
    "execution": {
     "iopub.execute_input": "2021-10-26T17:43:20.738132Z",
     "iopub.status.busy": "2021-10-26T17:43:20.737255Z",
     "iopub.status.idle": "2021-10-26T17:51:27.929180Z",
     "shell.execute_reply": "2021-10-26T17:51:27.928352Z",
     "shell.execute_reply.started": "2021-10-26T17:09:20.727847Z"
    },
    "papermill": {
     "duration": 487.213729,
     "end_time": "2021-10-26T17:51:27.929347",
     "exception": false,
     "start_time": "2021-10-26T17:43:20.715618",
     "status": "completed"
    },
    "tags": []
   },
   "outputs": [],
   "source": [
    "X, Y = [], []\n",
    "FLAG = 0\n",
    "for path, emotion in zip(RAV_df['path'], RAV_df['labels']):\n",
    "    feature = get_feat(path)\n",
    "    for element in feature:\n",
    "        X.append(element)\n",
    "        Y.append(emotion)\n",
    "   \n",
    "        "
   ]
  },
  {
   "cell_type": "code",
   "execution_count": 10,
   "id": "9237b2e2",
   "metadata": {
    "execution": {
     "iopub.execute_input": "2021-10-26T17:51:27.999026Z",
     "iopub.status.busy": "2021-10-26T17:51:27.998238Z",
     "iopub.status.idle": "2021-10-26T17:51:28.249121Z",
     "shell.execute_reply": "2021-10-26T17:51:28.248182Z",
     "shell.execute_reply.started": "2021-10-26T17:19:57.049164Z"
    },
    "papermill": {
     "duration": 0.289541,
     "end_time": "2021-10-26T17:51:28.249271",
     "exception": false,
     "start_time": "2021-10-26T17:51:27.959730",
     "status": "completed"
    },
    "tags": []
   },
   "outputs": [
    {
     "data": {
      "text/html": [
       "<div>\n",
       "<style scoped>\n",
       "    .dataframe tbody tr th:only-of-type {\n",
       "        vertical-align: middle;\n",
       "    }\n",
       "\n",
       "    .dataframe tbody tr th {\n",
       "        vertical-align: top;\n",
       "    }\n",
       "\n",
       "    .dataframe thead th {\n",
       "        text-align: right;\n",
       "    }\n",
       "</style>\n",
       "<table border=\"1\" class=\"dataframe\">\n",
       "  <thead>\n",
       "    <tr style=\"text-align: right;\">\n",
       "      <th></th>\n",
       "      <th>0</th>\n",
       "      <th>1</th>\n",
       "      <th>2</th>\n",
       "      <th>3</th>\n",
       "      <th>4</th>\n",
       "      <th>5</th>\n",
       "      <th>6</th>\n",
       "      <th>7</th>\n",
       "      <th>8</th>\n",
       "      <th>9</th>\n",
       "      <th>...</th>\n",
       "      <th>11</th>\n",
       "      <th>12</th>\n",
       "      <th>13</th>\n",
       "      <th>14</th>\n",
       "      <th>15</th>\n",
       "      <th>16</th>\n",
       "      <th>17</th>\n",
       "      <th>18</th>\n",
       "      <th>19</th>\n",
       "      <th>labels</th>\n",
       "    </tr>\n",
       "  </thead>\n",
       "  <tbody>\n",
       "    <tr>\n",
       "      <th>0</th>\n",
       "      <td>-626.262817</td>\n",
       "      <td>93.897247</td>\n",
       "      <td>-0.691273</td>\n",
       "      <td>17.833761</td>\n",
       "      <td>9.502006</td>\n",
       "      <td>2.030928</td>\n",
       "      <td>-2.721136</td>\n",
       "      <td>-8.514406</td>\n",
       "      <td>-12.427499</td>\n",
       "      <td>-6.575863</td>\n",
       "      <td>...</td>\n",
       "      <td>-2.750585</td>\n",
       "      <td>0.777975</td>\n",
       "      <td>-5.365466</td>\n",
       "      <td>-0.337154</td>\n",
       "      <td>1.482861</td>\n",
       "      <td>-8.703282</td>\n",
       "      <td>-2.764846</td>\n",
       "      <td>-1.618086</td>\n",
       "      <td>-1.523441</td>\n",
       "      <td>male_calm</td>\n",
       "    </tr>\n",
       "    <tr>\n",
       "      <th>1</th>\n",
       "      <td>-567.831101</td>\n",
       "      <td>74.691608</td>\n",
       "      <td>2.982113</td>\n",
       "      <td>14.153833</td>\n",
       "      <td>8.135078</td>\n",
       "      <td>1.189493</td>\n",
       "      <td>-3.838182</td>\n",
       "      <td>-9.273927</td>\n",
       "      <td>-11.415588</td>\n",
       "      <td>-6.328705</td>\n",
       "      <td>...</td>\n",
       "      <td>-2.433986</td>\n",
       "      <td>0.154037</td>\n",
       "      <td>-4.699649</td>\n",
       "      <td>-0.441504</td>\n",
       "      <td>1.479412</td>\n",
       "      <td>-7.853117</td>\n",
       "      <td>-4.223108</td>\n",
       "      <td>-0.867547</td>\n",
       "      <td>-2.896458</td>\n",
       "      <td>male_calm</td>\n",
       "    </tr>\n",
       "    <tr>\n",
       "      <th>2</th>\n",
       "      <td>-683.959106</td>\n",
       "      <td>90.017647</td>\n",
       "      <td>-4.683508</td>\n",
       "      <td>17.088537</td>\n",
       "      <td>6.352373</td>\n",
       "      <td>0.125587</td>\n",
       "      <td>-6.658744</td>\n",
       "      <td>-12.177227</td>\n",
       "      <td>-15.775248</td>\n",
       "      <td>-5.823675</td>\n",
       "      <td>...</td>\n",
       "      <td>-2.188844</td>\n",
       "      <td>-1.985480</td>\n",
       "      <td>-7.312302</td>\n",
       "      <td>-0.379691</td>\n",
       "      <td>-2.598665</td>\n",
       "      <td>-9.273556</td>\n",
       "      <td>-2.698469</td>\n",
       "      <td>-1.999992</td>\n",
       "      <td>-5.755872</td>\n",
       "      <td>male_calm</td>\n",
       "    </tr>\n",
       "    <tr>\n",
       "      <th>3</th>\n",
       "      <td>-634.959839</td>\n",
       "      <td>72.811478</td>\n",
       "      <td>-3.487027</td>\n",
       "      <td>20.697269</td>\n",
       "      <td>10.188320</td>\n",
       "      <td>-0.667841</td>\n",
       "      <td>-3.293634</td>\n",
       "      <td>-7.447817</td>\n",
       "      <td>-16.703850</td>\n",
       "      <td>-2.161060</td>\n",
       "      <td>...</td>\n",
       "      <td>-3.714514</td>\n",
       "      <td>0.273591</td>\n",
       "      <td>-4.517451</td>\n",
       "      <td>-1.117245</td>\n",
       "      <td>0.534381</td>\n",
       "      <td>-6.885533</td>\n",
       "      <td>-1.295200</td>\n",
       "      <td>-3.289555</td>\n",
       "      <td>0.756878</td>\n",
       "      <td>male_neutral</td>\n",
       "    </tr>\n",
       "    <tr>\n",
       "      <th>4</th>\n",
       "      <td>-438.492326</td>\n",
       "      <td>28.134047</td>\n",
       "      <td>8.580193</td>\n",
       "      <td>10.322097</td>\n",
       "      <td>5.186673</td>\n",
       "      <td>-0.666118</td>\n",
       "      <td>-2.754278</td>\n",
       "      <td>-6.714782</td>\n",
       "      <td>-8.605787</td>\n",
       "      <td>-4.746079</td>\n",
       "      <td>...</td>\n",
       "      <td>-2.143015</td>\n",
       "      <td>-1.594120</td>\n",
       "      <td>-1.766491</td>\n",
       "      <td>-0.324387</td>\n",
       "      <td>-0.514220</td>\n",
       "      <td>-3.986067</td>\n",
       "      <td>-2.439568</td>\n",
       "      <td>-0.820109</td>\n",
       "      <td>-2.124241</td>\n",
       "      <td>male_neutral</td>\n",
       "    </tr>\n",
       "  </tbody>\n",
       "</table>\n",
       "<p>5 rows × 21 columns</p>\n",
       "</div>"
      ],
      "text/plain": [
       "            0          1         2          3          4         5         6  \\\n",
       "0 -626.262817  93.897247 -0.691273  17.833761   9.502006  2.030928 -2.721136   \n",
       "1 -567.831101  74.691608  2.982113  14.153833   8.135078  1.189493 -3.838182   \n",
       "2 -683.959106  90.017647 -4.683508  17.088537   6.352373  0.125587 -6.658744   \n",
       "3 -634.959839  72.811478 -3.487027  20.697269  10.188320 -0.667841 -3.293634   \n",
       "4 -438.492326  28.134047  8.580193  10.322097   5.186673 -0.666118 -2.754278   \n",
       "\n",
       "           7          8         9  ...        11        12        13  \\\n",
       "0  -8.514406 -12.427499 -6.575863  ... -2.750585  0.777975 -5.365466   \n",
       "1  -9.273927 -11.415588 -6.328705  ... -2.433986  0.154037 -4.699649   \n",
       "2 -12.177227 -15.775248 -5.823675  ... -2.188844 -1.985480 -7.312302   \n",
       "3  -7.447817 -16.703850 -2.161060  ... -3.714514  0.273591 -4.517451   \n",
       "4  -6.714782  -8.605787 -4.746079  ... -2.143015 -1.594120 -1.766491   \n",
       "\n",
       "         14        15        16        17        18        19        labels  \n",
       "0 -0.337154  1.482861 -8.703282 -2.764846 -1.618086 -1.523441     male_calm  \n",
       "1 -0.441504  1.479412 -7.853117 -4.223108 -0.867547 -2.896458     male_calm  \n",
       "2 -0.379691 -2.598665 -9.273556 -2.698469 -1.999992 -5.755872     male_calm  \n",
       "3 -1.117245  0.534381 -6.885533 -1.295200 -3.289555  0.756878  male_neutral  \n",
       "4 -0.324387 -0.514220 -3.986067 -2.439568 -0.820109 -2.124241  male_neutral  \n",
       "\n",
       "[5 rows x 21 columns]"
      ]
     },
     "execution_count": 10,
     "metadata": {},
     "output_type": "execute_result"
    }
   ],
   "source": [
    "Features = pd.DataFrame(X)\n",
    "Features['labels'] = Y\n",
    "Features.to_csv('features.csv', index=False)\n",
    "Features.head()"
   ]
  },
  {
   "cell_type": "code",
   "execution_count": 11,
   "id": "5c3bc7c4",
   "metadata": {
    "execution": {
     "iopub.execute_input": "2021-10-26T17:51:28.308528Z",
     "iopub.status.busy": "2021-10-26T17:51:28.307809Z",
     "iopub.status.idle": "2021-10-26T17:51:28.311016Z",
     "shell.execute_reply": "2021-10-26T17:51:28.310297Z",
     "shell.execute_reply.started": "2021-10-26T17:21:16.648622Z"
    },
    "papermill": {
     "duration": 0.036495,
     "end_time": "2021-10-26T17:51:28.311180",
     "exception": false,
     "start_time": "2021-10-26T17:51:28.274685",
     "status": "completed"
    },
    "tags": []
   },
   "outputs": [],
   "source": [
    "X = Features.iloc[: ,:-1].values\n",
    "Y = Features['labels'].values"
   ]
  },
  {
   "cell_type": "code",
   "execution_count": 12,
   "id": "17c3d10a",
   "metadata": {
    "execution": {
     "iopub.execute_input": "2021-10-26T17:51:28.369111Z",
     "iopub.status.busy": "2021-10-26T17:51:28.368402Z",
     "iopub.status.idle": "2021-10-26T17:51:28.372020Z",
     "shell.execute_reply": "2021-10-26T17:51:28.371389Z",
     "shell.execute_reply.started": "2021-10-26T17:21:21.628413Z"
    },
    "papermill": {
     "duration": 0.035481,
     "end_time": "2021-10-26T17:51:28.372166",
     "exception": false,
     "start_time": "2021-10-26T17:51:28.336685",
     "status": "completed"
    },
    "tags": []
   },
   "outputs": [],
   "source": [
    "encoder = OneHotEncoder()\n",
    "Y = encoder.fit_transform(np.array(Y).reshape(-1,1)).toarray()"
   ]
  },
  {
   "cell_type": "code",
   "execution_count": 13,
   "id": "ba3fe00e",
   "metadata": {
    "execution": {
     "iopub.execute_input": "2021-10-26T17:51:28.429465Z",
     "iopub.status.busy": "2021-10-26T17:51:28.428438Z",
     "iopub.status.idle": "2021-10-26T17:51:28.432771Z",
     "shell.execute_reply": "2021-10-26T17:51:28.432275Z",
     "shell.execute_reply.started": "2021-10-26T17:21:04.968941Z"
    },
    "papermill": {
     "duration": 0.035048,
     "end_time": "2021-10-26T17:51:28.432893",
     "exception": false,
     "start_time": "2021-10-26T17:51:28.397845",
     "status": "completed"
    },
    "tags": []
   },
   "outputs": [
    {
     "data": {
      "text/plain": [
       "(4320, 16)"
      ]
     },
     "execution_count": 13,
     "metadata": {},
     "output_type": "execute_result"
    }
   ],
   "source": [
    "Y.shape"
   ]
  },
  {
   "cell_type": "code",
   "execution_count": 14,
   "id": "329ca9c5",
   "metadata": {
    "execution": {
     "iopub.execute_input": "2021-10-26T17:51:28.475020Z",
     "iopub.status.busy": "2021-10-26T17:51:28.470918Z",
     "iopub.status.idle": "2021-10-26T17:51:28.480239Z",
     "shell.execute_reply": "2021-10-26T17:51:28.479714Z",
     "shell.execute_reply.started": "2021-10-26T17:40:10.918685Z"
    },
    "papermill": {
     "duration": 0.029173,
     "end_time": "2021-10-26T17:51:28.480353",
     "exception": false,
     "start_time": "2021-10-26T17:51:28.451180",
     "status": "completed"
    },
    "tags": []
   },
   "outputs": [
    {
     "data": {
      "text/plain": [
       "((3240, 20), (3240, 16), (1080, 20), (1080, 16))"
      ]
     },
     "execution_count": 14,
     "metadata": {},
     "output_type": "execute_result"
    }
   ],
   "source": [
    "x_train, x_test, y_train, y_test = train_test_split(X, Y, random_state=0, shuffle=True)\n",
    "x_train.shape, y_train.shape, x_test.shape, y_test.shape"
   ]
  },
  {
   "cell_type": "code",
   "execution_count": 15,
   "id": "a15bf5c4",
   "metadata": {
    "execution": {
     "iopub.execute_input": "2021-10-26T17:51:28.520857Z",
     "iopub.status.busy": "2021-10-26T17:51:28.520374Z",
     "iopub.status.idle": "2021-10-26T17:51:28.527955Z",
     "shell.execute_reply": "2021-10-26T17:51:28.528420Z",
     "shell.execute_reply.started": "2021-10-26T17:40:12.852587Z"
    },
    "papermill": {
     "duration": 0.030541,
     "end_time": "2021-10-26T17:51:28.528553",
     "exception": false,
     "start_time": "2021-10-26T17:51:28.498012",
     "status": "completed"
    },
    "tags": []
   },
   "outputs": [
    {
     "data": {
      "text/plain": [
       "((3240, 20), (3240, 16), (1080, 20), (1080, 16))"
      ]
     },
     "execution_count": 15,
     "metadata": {},
     "output_type": "execute_result"
    }
   ],
   "source": [
    "scaler = StandardScaler()\n",
    "x_train = scaler.fit_transform(x_train)\n",
    "x_test = scaler.transform(x_test)\n",
    "x_train.shape, y_train.shape, x_test.shape, y_test.shape"
   ]
  },
  {
   "cell_type": "code",
   "execution_count": 16,
   "id": "a1c619db",
   "metadata": {
    "execution": {
     "iopub.execute_input": "2021-10-26T17:51:28.566673Z",
     "iopub.status.busy": "2021-10-26T17:51:28.566154Z",
     "iopub.status.idle": "2021-10-26T17:52:18.150051Z",
     "shell.execute_reply": "2021-10-26T17:52:18.149432Z",
     "shell.execute_reply.started": "2021-10-26T17:40:14.612473Z"
    },
    "papermill": {
     "duration": 49.604467,
     "end_time": "2021-10-26T17:52:18.150194",
     "exception": false,
     "start_time": "2021-10-26T17:51:28.545727",
     "status": "completed"
    },
    "tags": []
   },
   "outputs": [
    {
     "name": "stdout",
     "output_type": "stream",
     "text": [
      "Training set score: 0.769\n",
      "Test set score: 0.548\n",
      "---------------------------------------------------------\n",
      "Training set score: 0.852\n",
      "Test set score: 0.645\n",
      "---------------------------------------------------------\n",
      "Training set score: 0.618\n",
      "Test set score: 0.457\n",
      "---------------------------------------------------------\n",
      "Training set score: 0.698\n",
      "Test set score: 0.537\n",
      "---------------------------------------------------------\n",
      "Training set score: 0.518\n",
      "Test set score: 0.395\n",
      "---------------------------------------------------------\n",
      "Training set score: 0.570\n",
      "Test set score: 0.452\n",
      "---------------------------------------------------------\n",
      "Training set score: 0.432\n",
      "Test set score: 0.329\n",
      "---------------------------------------------------------\n",
      "Training set score: 0.483\n",
      "Test set score: 0.378\n",
      "---------------------------------------------------------\n"
     ]
    }
   ],
   "source": [
    "neighbours = []\n",
    "trainAcc = []\n",
    "testAcc = []\n",
    "for i in range(2,10):\n",
    "    from sklearn.neighbors import KNeighborsClassifier\n",
    "    clf1=KNeighborsClassifier(n_neighbors=i)\n",
    "    clf1.fit(x_train,y_train)\n",
    "    y_pred=clf1.predict(x_test)\n",
    "    print(\"Training set score: {:.3f}\".format(clf1.score(x_train, y_train)))\n",
    "    print(\"Test set score: {:.3f}\".format(clf1.score(x_test, y_test)))\n",
    "    print('---------------------------------------------------------')\n",
    "    neighbours.append(i)\n",
    "    trainAcc.append(clf1.score(x_train, y_train))\n",
    "    testAcc.append(clf1.score(x_test, y_test))"
   ]
  },
  {
   "cell_type": "code",
   "execution_count": 17,
   "id": "ca309ea9",
   "metadata": {
    "execution": {
     "iopub.execute_input": "2021-10-26T17:52:18.254573Z",
     "iopub.status.busy": "2021-10-26T17:52:18.248098Z",
     "iopub.status.idle": "2021-10-26T17:52:18.403507Z",
     "shell.execute_reply": "2021-10-26T17:52:18.403922Z",
     "shell.execute_reply.started": "2021-10-26T17:41:20.617357Z"
    },
    "papermill": {
     "duration": 0.220869,
     "end_time": "2021-10-26T17:52:18.404075",
     "exception": false,
     "start_time": "2021-10-26T17:52:18.183206",
     "status": "completed"
    },
    "tags": []
   },
   "outputs": [
    {
     "data": {
      "text/plain": [
       "Text(0, 0.5, 'Accuracy')"
      ]
     },
     "execution_count": 17,
     "metadata": {},
     "output_type": "execute_result"
    },
    {
     "data": {
      "image/png": "[encoded data removed]",
      "text/plain": [
       "<Figure size 432x288 with 1 Axes>"
      ]
     },
     "metadata": {
      "needs_background": "light"
     },
     "output_type": "display_data"
    }
   ],
   "source": [
    "plt.plot(neighbours,trainAcc,marker = 'd')\n",
    "plt.plot(neighbours,testAcc, 'red',marker = 'o')\n",
    "plt.xlabel('No of Neighbours')\n",
    "plt.ylabel('Accuracy')"
   ]
  },
  {
   "cell_type": "code",
   "execution_count": 18,
   "id": "fc6686c7",
   "metadata": {
    "execution": {
     "iopub.execute_input": "2021-10-26T17:52:18.455239Z",
     "iopub.status.busy": "2021-10-26T17:52:18.453778Z",
     "iopub.status.idle": "2021-10-26T17:52:18.483245Z",
     "shell.execute_reply": "2021-10-26T17:52:18.482487Z",
     "shell.execute_reply.started": "2021-10-26T17:41:29.092994Z"
    },
    "papermill": {
     "duration": 0.056157,
     "end_time": "2021-10-26T17:52:18.483390",
     "exception": false,
     "start_time": "2021-10-26T17:52:18.427233",
     "status": "completed"
    },
    "tags": []
   },
   "outputs": [
    {
     "data": {
      "text/plain": [
       "KNeighborsClassifier(n_neighbors=3)"
      ]
     },
     "execution_count": 18,
     "metadata": {},
     "output_type": "execute_result"
    }
   ],
   "source": [
    "from sklearn.neighbors import KNeighborsClassifier\n",
    "clf1=KNeighborsClassifier(n_neighbors=3)\n",
    "clf1.fit(x_train,y_train)"
   ]
  },
  {
   "cell_type": "code",
   "execution_count": 19,
   "id": "0f675c2b",
   "metadata": {
    "execution": {
     "iopub.execute_input": "2021-10-26T17:52:18.560301Z",
     "iopub.status.busy": "2021-10-26T17:52:18.559594Z",
     "iopub.status.idle": "2021-10-26T17:52:19.250009Z",
     "shell.execute_reply": "2021-10-26T17:52:19.249314Z",
     "shell.execute_reply.started": "2021-10-26T17:41:30.367011Z"
    },
    "papermill": {
     "duration": 0.731875,
     "end_time": "2021-10-26T17:52:19.250150",
     "exception": false,
     "start_time": "2021-10-26T17:52:18.518275",
     "status": "completed"
    },
    "tags": []
   },
   "outputs": [],
   "source": [
    "pred_test = clf1.predict(x_test)\n",
    "y_pred = encoder.inverse_transform(pred_test)\n",
    "\n",
    "y_test = encoder.inverse_transform(y_test)"
   ]
  },
  {
   "cell_type": "code",
   "execution_count": 20,
   "id": "4e333dba",
   "metadata": {
    "execution": {
     "iopub.execute_input": "2021-10-26T17:52:19.334202Z",
     "iopub.status.busy": "2021-10-26T17:52:19.333406Z",
     "iopub.status.idle": "2021-10-26T17:52:19.337292Z",
     "shell.execute_reply": "2021-10-26T17:52:19.336715Z",
     "shell.execute_reply.started": "2021-10-26T17:41:42.287569Z"
    },
    "papermill": {
     "duration": 0.052906,
     "end_time": "2021-10-26T17:52:19.337434",
     "exception": false,
     "start_time": "2021-10-26T17:52:19.284528",
     "status": "completed"
    },
    "tags": []
   },
   "outputs": [
    {
     "data": {
      "text/html": [
       "<div>\n",
       "<style scoped>\n",
       "    .dataframe tbody tr th:only-of-type {\n",
       "        vertical-align: middle;\n",
       "    }\n",
       "\n",
       "    .dataframe tbody tr th {\n",
       "        vertical-align: top;\n",
       "    }\n",
       "\n",
       "    .dataframe thead th {\n",
       "        text-align: right;\n",
       "    }\n",
       "</style>\n",
       "<table border=\"1\" class=\"dataframe\">\n",
       "  <thead>\n",
       "    <tr style=\"text-align: right;\">\n",
       "      <th></th>\n",
       "      <th>Predicted Labels</th>\n",
       "      <th>Actual Labels</th>\n",
       "    </tr>\n",
       "  </thead>\n",
       "  <tbody>\n",
       "    <tr>\n",
       "      <th>0</th>\n",
       "      <td>female_angry</td>\n",
       "      <td>female_sad</td>\n",
       "    </tr>\n",
       "    <tr>\n",
       "      <th>1</th>\n",
       "      <td>male_surprise</td>\n",
       "      <td>male_happy</td>\n",
       "    </tr>\n",
       "    <tr>\n",
       "      <th>2</th>\n",
       "      <td>female_angry</td>\n",
       "      <td>female_surprise</td>\n",
       "    </tr>\n",
       "    <tr>\n",
       "      <th>3</th>\n",
       "      <td>female_angry</td>\n",
       "      <td>female_angry</td>\n",
       "    </tr>\n",
       "    <tr>\n",
       "      <th>4</th>\n",
       "      <td>female_surprise</td>\n",
       "      <td>female_fear</td>\n",
       "    </tr>\n",
       "    <tr>\n",
       "      <th>5</th>\n",
       "      <td>female_surprise</td>\n",
       "      <td>female_sad</td>\n",
       "    </tr>\n",
       "    <tr>\n",
       "      <th>6</th>\n",
       "      <td>female_angry</td>\n",
       "      <td>male_disgust</td>\n",
       "    </tr>\n",
       "    <tr>\n",
       "      <th>7</th>\n",
       "      <td>male_sad</td>\n",
       "      <td>male_sad</td>\n",
       "    </tr>\n",
       "    <tr>\n",
       "      <th>8</th>\n",
       "      <td>female_surprise</td>\n",
       "      <td>female_surprise</td>\n",
       "    </tr>\n",
       "    <tr>\n",
       "      <th>9</th>\n",
       "      <td>male_neutral</td>\n",
       "      <td>male_calm</td>\n",
       "    </tr>\n",
       "  </tbody>\n",
       "</table>\n",
       "</div>"
      ],
      "text/plain": [
       "  Predicted Labels    Actual Labels\n",
       "0     female_angry       female_sad\n",
       "1    male_surprise       male_happy\n",
       "2     female_angry  female_surprise\n",
       "3     female_angry     female_angry\n",
       "4  female_surprise      female_fear\n",
       "5  female_surprise       female_sad\n",
       "6     female_angry     male_disgust\n",
       "7         male_sad         male_sad\n",
       "8  female_surprise  female_surprise\n",
       "9     male_neutral        male_calm"
      ]
     },
     "execution_count": 20,
     "metadata": {},
     "output_type": "execute_result"
    }
   ],
   "source": [
    "df = pd.DataFrame(columns=['Predicted Labels', 'Actual Labels'])\n",
    "df['Predicted Labels'] = y_pred.flatten()\n",
    "df['Actual Labels'] = y_test.flatten()\n",
    "\n",
    "df.head(10)"
   ]
  },
  {
   "cell_type": "code",
   "execution_count": 21,
   "id": "e9ba71ab",
   "metadata": {
    "execution": {
     "iopub.execute_input": "2021-10-26T17:52:19.502627Z",
     "iopub.status.busy": "2021-10-26T17:52:19.501769Z",
     "iopub.status.idle": "2021-10-26T17:52:20.660004Z",
     "shell.execute_reply": "2021-10-26T17:52:20.659332Z",
     "shell.execute_reply.started": "2021-10-26T17:41:46.402657Z"
    },
    "papermill": {
     "duration": 1.197071,
     "end_time": "2021-10-26T17:52:20.660135",
     "exception": false,
     "start_time": "2021-10-26T17:52:19.463064",
     "status": "completed"
    },
    "tags": []
   },
   "outputs": [
    {
     "data": {
      "image/png": "[encoded data removed]",
      "text/plain": [
       "<Figure size 864x720 with 2 Axes>"
      ]
     },
     "metadata": {
      "needs_background": "light"
     },
     "output_type": "display_data"
    }
   ],
   "source": [
    "cm = confusion_matrix(y_test, y_pred)\n",
    "plt.figure(figsize = (12, 10))\n",
    "cm = pd.DataFrame(cm , index = [i for i in encoder.categories_] , columns = [i for i in encoder.categories_])\n",
    "sns.heatmap(cm, linecolor='white', cmap='Blues', linewidth=1, annot=True, fmt='')\n",
    "plt.title('Confusion Matrix', size=20)\n",
    "plt.xlabel('Predicted Labels', size=14)\n",
    "plt.ylabel('Actual Labels', size=14)\n",
    "plt.show()"
   ]
  },
  {
   "cell_type": "code",
   "execution_count": 22,
   "id": "4a18ffbb",
   "metadata": {
    "execution": {
     "iopub.execute_input": "2021-10-26T17:52:20.740396Z",
     "iopub.status.busy": "2021-10-26T17:52:20.739767Z",
     "iopub.status.idle": "2021-10-26T17:52:20.796670Z",
     "shell.execute_reply": "2021-10-26T17:52:20.795998Z",
     "shell.execute_reply.started": "2021-10-26T17:42:08.821870Z"
    },
    "papermill": {
     "duration": 0.099521,
     "end_time": "2021-10-26T17:52:20.796829",
     "exception": false,
     "start_time": "2021-10-26T17:52:20.697308",
     "status": "completed"
    },
    "tags": []
   },
   "outputs": [
    {
     "name": "stdout",
     "output_type": "stream",
     "text": [
      "                 precision    recall  f1-score   support\n",
      "\n",
      "   female_angry       0.22      0.84      0.34        64\n",
      "    female_calm       0.83      0.76      0.79        83\n",
      " female_disgust       0.89      0.50      0.64        68\n",
      "    female_fear       0.78      0.60      0.68        90\n",
      "   female_happy       0.73      0.56      0.64        73\n",
      " female_neutral       0.75      0.64      0.69        33\n",
      "     female_sad       0.63      0.56      0.59        72\n",
      "female_surprise       0.74      0.79      0.76        66\n",
      "     male_angry       0.89      0.70      0.79        60\n",
      "      male_calm       0.82      0.78      0.80        69\n",
      "   male_disgust       0.93      0.49      0.64        77\n",
      "      male_fear       0.75      0.58      0.66        65\n",
      "     male_happy       0.91      0.71      0.80        73\n",
      "   male_neutral       0.50      0.50      0.50        38\n",
      "       male_sad       0.82      0.71      0.76        72\n",
      "  male_surprise       0.78      0.68      0.72        77\n",
      "\n",
      "       accuracy                           0.65      1080\n",
      "      macro avg       0.75      0.65      0.68      1080\n",
      "   weighted avg       0.76      0.65      0.68      1080\n",
      "\n"
     ]
    }
   ],
   "source": [
    "print(classification_report(y_test, y_pred))\n"
   ]
  }
 ],
 "metadata": {
  "kernelspec": {
   "display_name": "Python 3",
   "language": "python",
   "name": "python3"
  },
  "language_info": {
   "codemirror_mode": {
    "name": "ipython",
    "version": 3
   },
   "file_extension": ".py",
   "mimetype": "text/x-python",
   "name": "python",
   "nbconvert_exporter": "python",
   "pygments_lexer": "ipython3",
   "version": "3.7.10"
  },
  "papermill": {
   "default_parameters": {},
   "duration": 566.123347,
   "end_time": "2021-10-26T17:52:24.032176",
   "environment_variables": {},
   "exception": null,
   "input_path": "__notebook__.ipynb",
   "output_path": "__notebook__.ipynb",
   "parameters": {},
   "start_time": "2021-10-26T17:42:57.908829",
   "version": "2.3.3"
  }
 },
 "nbformat": 4,
 "nbformat_minor": 5
}
